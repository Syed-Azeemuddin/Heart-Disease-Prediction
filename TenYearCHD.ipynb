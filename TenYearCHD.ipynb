{
 "cells": [
  {
   "cell_type": "code",
   "execution_count": 1,
   "id": "84f3bc58",
   "metadata": {},
   "outputs": [],
   "source": [
    "import pandas as pd\n",
    "import numpy as np\n",
    "import seaborn as sns\n",
    "import matplotlib.pyplot as plt\n",
    "%matplotlib inline"
   ]
  },
  {
   "cell_type": "code",
   "execution_count": 2,
   "id": "efbc7d99",
   "metadata": {},
   "outputs": [],
   "source": [
    "df = pd.read_csv(r\"C:\\Users\\Syed Azeemuddin\\Downloads\\sem7 notes\\HT\\data_cardiovascular_risk.csv\",index_col='id')"
   ]
  },
  {
   "cell_type": "code",
   "execution_count": 89,
   "id": "e0e14a64",
   "metadata": {
    "scrolled": false
   },
   "outputs": [
    {
     "data": {
      "text/html": [
       "<div>\n",
       "<style scoped>\n",
       "    .dataframe tbody tr th:only-of-type {\n",
       "        vertical-align: middle;\n",
       "    }\n",
       "\n",
       "    .dataframe tbody tr th {\n",
       "        vertical-align: top;\n",
       "    }\n",
       "\n",
       "    .dataframe thead th {\n",
       "        text-align: right;\n",
       "    }\n",
       "</style>\n",
       "<table border=\"1\" class=\"dataframe\">\n",
       "  <thead>\n",
       "    <tr style=\"text-align: right;\">\n",
       "      <th></th>\n",
       "      <th>age</th>\n",
       "      <th>education</th>\n",
       "      <th>sex</th>\n",
       "      <th>is_smoking</th>\n",
       "      <th>cigsPerDay</th>\n",
       "      <th>BPMeds</th>\n",
       "      <th>prevalentStroke</th>\n",
       "      <th>prevalentHyp</th>\n",
       "      <th>diabetes</th>\n",
       "      <th>totChol</th>\n",
       "      <th>sysBP</th>\n",
       "      <th>diaBP</th>\n",
       "      <th>BMI</th>\n",
       "      <th>heartRate</th>\n",
       "      <th>glucose</th>\n",
       "      <th>TenYearCHD</th>\n",
       "    </tr>\n",
       "    <tr>\n",
       "      <th>id</th>\n",
       "      <th></th>\n",
       "      <th></th>\n",
       "      <th></th>\n",
       "      <th></th>\n",
       "      <th></th>\n",
       "      <th></th>\n",
       "      <th></th>\n",
       "      <th></th>\n",
       "      <th></th>\n",
       "      <th></th>\n",
       "      <th></th>\n",
       "      <th></th>\n",
       "      <th></th>\n",
       "      <th></th>\n",
       "      <th></th>\n",
       "      <th></th>\n",
       "    </tr>\n",
       "  </thead>\n",
       "  <tbody>\n",
       "    <tr>\n",
       "      <th>3102</th>\n",
       "      <td>60</td>\n",
       "      <td>1.0</td>\n",
       "      <td>M</td>\n",
       "      <td>YES</td>\n",
       "      <td>20.0</td>\n",
       "      <td>0.0</td>\n",
       "      <td>0</td>\n",
       "      <td>1</td>\n",
       "      <td>0</td>\n",
       "      <td>174.0</td>\n",
       "      <td>164.0</td>\n",
       "      <td>113.0</td>\n",
       "      <td>18.64</td>\n",
       "      <td>65.0</td>\n",
       "      <td>93.0</td>\n",
       "      <td>1</td>\n",
       "    </tr>\n",
       "    <tr>\n",
       "      <th>427</th>\n",
       "      <td>65</td>\n",
       "      <td>4.0</td>\n",
       "      <td>M</td>\n",
       "      <td>NO</td>\n",
       "      <td>0.0</td>\n",
       "      <td>0.0</td>\n",
       "      <td>0</td>\n",
       "      <td>0</td>\n",
       "      <td>0</td>\n",
       "      <td>253.0</td>\n",
       "      <td>111.0</td>\n",
       "      <td>60.0</td>\n",
       "      <td>24.12</td>\n",
       "      <td>60.0</td>\n",
       "      <td>69.0</td>\n",
       "      <td>0</td>\n",
       "    </tr>\n",
       "    <tr>\n",
       "      <th>1279</th>\n",
       "      <td>39</td>\n",
       "      <td>2.0</td>\n",
       "      <td>M</td>\n",
       "      <td>YES</td>\n",
       "      <td>20.0</td>\n",
       "      <td>0.0</td>\n",
       "      <td>0</td>\n",
       "      <td>0</td>\n",
       "      <td>0</td>\n",
       "      <td>212.0</td>\n",
       "      <td>107.5</td>\n",
       "      <td>67.5</td>\n",
       "      <td>27.43</td>\n",
       "      <td>87.0</td>\n",
       "      <td>77.0</td>\n",
       "      <td>0</td>\n",
       "    </tr>\n",
       "    <tr>\n",
       "      <th>2218</th>\n",
       "      <td>58</td>\n",
       "      <td>1.0</td>\n",
       "      <td>F</td>\n",
       "      <td>YES</td>\n",
       "      <td>5.0</td>\n",
       "      <td>0.0</td>\n",
       "      <td>0</td>\n",
       "      <td>1</td>\n",
       "      <td>0</td>\n",
       "      <td>240.0</td>\n",
       "      <td>150.0</td>\n",
       "      <td>84.0</td>\n",
       "      <td>26.85</td>\n",
       "      <td>75.0</td>\n",
       "      <td>94.0</td>\n",
       "      <td>1</td>\n",
       "    </tr>\n",
       "    <tr>\n",
       "      <th>486</th>\n",
       "      <td>47</td>\n",
       "      <td>4.0</td>\n",
       "      <td>F</td>\n",
       "      <td>NO</td>\n",
       "      <td>0.0</td>\n",
       "      <td>0.0</td>\n",
       "      <td>0</td>\n",
       "      <td>0</td>\n",
       "      <td>0</td>\n",
       "      <td>242.0</td>\n",
       "      <td>145.0</td>\n",
       "      <td>87.5</td>\n",
       "      <td>22.01</td>\n",
       "      <td>58.0</td>\n",
       "      <td>73.0</td>\n",
       "      <td>0</td>\n",
       "    </tr>\n",
       "  </tbody>\n",
       "</table>\n",
       "</div>"
      ],
      "text/plain": [
       "      age  education sex is_smoking  cigsPerDay  BPMeds  prevalentStroke  \\\n",
       "id                                                                         \n",
       "3102   60        1.0   M        YES        20.0     0.0                0   \n",
       "427    65        4.0   M         NO         0.0     0.0                0   \n",
       "1279   39        2.0   M        YES        20.0     0.0                0   \n",
       "2218   58        1.0   F        YES         5.0     0.0                0   \n",
       "486    47        4.0   F         NO         0.0     0.0                0   \n",
       "\n",
       "      prevalentHyp  diabetes  totChol  sysBP  diaBP    BMI  heartRate  \\\n",
       "id                                                                      \n",
       "3102             1         0    174.0  164.0  113.0  18.64       65.0   \n",
       "427              0         0    253.0  111.0   60.0  24.12       60.0   \n",
       "1279             0         0    212.0  107.5   67.5  27.43       87.0   \n",
       "2218             1         0    240.0  150.0   84.0  26.85       75.0   \n",
       "486              0         0    242.0  145.0   87.5  22.01       58.0   \n",
       "\n",
       "      glucose  TenYearCHD  \n",
       "id                         \n",
       "3102     93.0           1  \n",
       "427      69.0           0  \n",
       "1279     77.0           0  \n",
       "2218     94.0           1  \n",
       "486      73.0           0  "
      ]
     },
     "execution_count": 89,
     "metadata": {},
     "output_type": "execute_result"
    }
   ],
   "source": [
    "df.sample(5)"
   ]
  },
  {
   "cell_type": "code",
   "execution_count": 4,
   "id": "b454d0f4",
   "metadata": {},
   "outputs": [
    {
     "data": {
      "text/plain": [
       "0    2879\n",
       "1     511\n",
       "Name: TenYearCHD, dtype: int64"
      ]
     },
     "execution_count": 4,
     "metadata": {},
     "output_type": "execute_result"
    }
   ],
   "source": [
    "df['TenYearCHD'].value_counts()"
   ]
  },
  {
   "cell_type": "code",
   "execution_count": 5,
   "id": "e8f42eec",
   "metadata": {},
   "outputs": [
    {
     "name": "stdout",
     "output_type": "stream",
     "text": [
      "<class 'pandas.core.frame.DataFrame'>\n",
      "Int64Index: 3390 entries, 0 to 3389\n",
      "Data columns (total 16 columns):\n",
      " #   Column           Non-Null Count  Dtype  \n",
      "---  ------           --------------  -----  \n",
      " 0   age              3390 non-null   int64  \n",
      " 1   education        3303 non-null   float64\n",
      " 2   sex              3390 non-null   object \n",
      " 3   is_smoking       3390 non-null   object \n",
      " 4   cigsPerDay       3368 non-null   float64\n",
      " 5   BPMeds           3346 non-null   float64\n",
      " 6   prevalentStroke  3390 non-null   int64  \n",
      " 7   prevalentHyp     3390 non-null   int64  \n",
      " 8   diabetes         3390 non-null   int64  \n",
      " 9   totChol          3352 non-null   float64\n",
      " 10  sysBP            3390 non-null   float64\n",
      " 11  diaBP            3390 non-null   float64\n",
      " 12  BMI              3376 non-null   float64\n",
      " 13  heartRate        3389 non-null   float64\n",
      " 14  glucose          3086 non-null   float64\n",
      " 15  TenYearCHD       3390 non-null   int64  \n",
      "dtypes: float64(9), int64(5), object(2)\n",
      "memory usage: 450.2+ KB\n"
     ]
    }
   ],
   "source": [
    "df.info()"
   ]
  },
  {
   "cell_type": "code",
   "execution_count": 6,
   "id": "15f00814",
   "metadata": {},
   "outputs": [
    {
     "data": {
      "text/html": [
       "<div>\n",
       "<style scoped>\n",
       "    .dataframe tbody tr th:only-of-type {\n",
       "        vertical-align: middle;\n",
       "    }\n",
       "\n",
       "    .dataframe tbody tr th {\n",
       "        vertical-align: top;\n",
       "    }\n",
       "\n",
       "    .dataframe thead th {\n",
       "        text-align: right;\n",
       "    }\n",
       "</style>\n",
       "<table border=\"1\" class=\"dataframe\">\n",
       "  <thead>\n",
       "    <tr style=\"text-align: right;\">\n",
       "      <th></th>\n",
       "      <th>age</th>\n",
       "      <th>education</th>\n",
       "      <th>sex</th>\n",
       "      <th>is_smoking</th>\n",
       "      <th>cigsPerDay</th>\n",
       "      <th>BPMeds</th>\n",
       "      <th>prevalentStroke</th>\n",
       "      <th>prevalentHyp</th>\n",
       "      <th>diabetes</th>\n",
       "      <th>totChol</th>\n",
       "      <th>sysBP</th>\n",
       "      <th>diaBP</th>\n",
       "      <th>BMI</th>\n",
       "      <th>heartRate</th>\n",
       "      <th>glucose</th>\n",
       "      <th>TenYearCHD</th>\n",
       "    </tr>\n",
       "    <tr>\n",
       "      <th>id</th>\n",
       "      <th></th>\n",
       "      <th></th>\n",
       "      <th></th>\n",
       "      <th></th>\n",
       "      <th></th>\n",
       "      <th></th>\n",
       "      <th></th>\n",
       "      <th></th>\n",
       "      <th></th>\n",
       "      <th></th>\n",
       "      <th></th>\n",
       "      <th></th>\n",
       "      <th></th>\n",
       "      <th></th>\n",
       "      <th></th>\n",
       "      <th></th>\n",
       "    </tr>\n",
       "  </thead>\n",
       "  <tbody>\n",
       "    <tr>\n",
       "      <th>0</th>\n",
       "      <td>64</td>\n",
       "      <td>2.0</td>\n",
       "      <td>F</td>\n",
       "      <td>YES</td>\n",
       "      <td>3.0</td>\n",
       "      <td>0.0</td>\n",
       "      <td>0</td>\n",
       "      <td>0</td>\n",
       "      <td>0</td>\n",
       "      <td>221.0</td>\n",
       "      <td>148.0</td>\n",
       "      <td>85.0</td>\n",
       "      <td>NaN</td>\n",
       "      <td>90.0</td>\n",
       "      <td>80.0</td>\n",
       "      <td>1</td>\n",
       "    </tr>\n",
       "    <tr>\n",
       "      <th>1</th>\n",
       "      <td>36</td>\n",
       "      <td>4.0</td>\n",
       "      <td>M</td>\n",
       "      <td>NO</td>\n",
       "      <td>0.0</td>\n",
       "      <td>0.0</td>\n",
       "      <td>0</td>\n",
       "      <td>1</td>\n",
       "      <td>0</td>\n",
       "      <td>212.0</td>\n",
       "      <td>168.0</td>\n",
       "      <td>98.0</td>\n",
       "      <td>29.77</td>\n",
       "      <td>72.0</td>\n",
       "      <td>75.0</td>\n",
       "      <td>0</td>\n",
       "    </tr>\n",
       "    <tr>\n",
       "      <th>2</th>\n",
       "      <td>46</td>\n",
       "      <td>1.0</td>\n",
       "      <td>F</td>\n",
       "      <td>YES</td>\n",
       "      <td>10.0</td>\n",
       "      <td>0.0</td>\n",
       "      <td>0</td>\n",
       "      <td>0</td>\n",
       "      <td>0</td>\n",
       "      <td>250.0</td>\n",
       "      <td>116.0</td>\n",
       "      <td>71.0</td>\n",
       "      <td>20.35</td>\n",
       "      <td>88.0</td>\n",
       "      <td>94.0</td>\n",
       "      <td>0</td>\n",
       "    </tr>\n",
       "    <tr>\n",
       "      <th>3</th>\n",
       "      <td>50</td>\n",
       "      <td>1.0</td>\n",
       "      <td>M</td>\n",
       "      <td>YES</td>\n",
       "      <td>20.0</td>\n",
       "      <td>0.0</td>\n",
       "      <td>0</td>\n",
       "      <td>1</td>\n",
       "      <td>0</td>\n",
       "      <td>233.0</td>\n",
       "      <td>158.0</td>\n",
       "      <td>88.0</td>\n",
       "      <td>28.26</td>\n",
       "      <td>68.0</td>\n",
       "      <td>94.0</td>\n",
       "      <td>1</td>\n",
       "    </tr>\n",
       "    <tr>\n",
       "      <th>4</th>\n",
       "      <td>64</td>\n",
       "      <td>1.0</td>\n",
       "      <td>F</td>\n",
       "      <td>YES</td>\n",
       "      <td>30.0</td>\n",
       "      <td>0.0</td>\n",
       "      <td>0</td>\n",
       "      <td>0</td>\n",
       "      <td>0</td>\n",
       "      <td>241.0</td>\n",
       "      <td>136.5</td>\n",
       "      <td>85.0</td>\n",
       "      <td>26.42</td>\n",
       "      <td>70.0</td>\n",
       "      <td>77.0</td>\n",
       "      <td>0</td>\n",
       "    </tr>\n",
       "  </tbody>\n",
       "</table>\n",
       "</div>"
      ],
      "text/plain": [
       "    age  education sex is_smoking  cigsPerDay  BPMeds  prevalentStroke  \\\n",
       "id                                                                       \n",
       "0    64        2.0   F        YES         3.0     0.0                0   \n",
       "1    36        4.0   M         NO         0.0     0.0                0   \n",
       "2    46        1.0   F        YES        10.0     0.0                0   \n",
       "3    50        1.0   M        YES        20.0     0.0                0   \n",
       "4    64        1.0   F        YES        30.0     0.0                0   \n",
       "\n",
       "    prevalentHyp  diabetes  totChol  sysBP  diaBP    BMI  heartRate  glucose  \\\n",
       "id                                                                             \n",
       "0              0         0    221.0  148.0   85.0    NaN       90.0     80.0   \n",
       "1              1         0    212.0  168.0   98.0  29.77       72.0     75.0   \n",
       "2              0         0    250.0  116.0   71.0  20.35       88.0     94.0   \n",
       "3              1         0    233.0  158.0   88.0  28.26       68.0     94.0   \n",
       "4              0         0    241.0  136.5   85.0  26.42       70.0     77.0   \n",
       "\n",
       "    TenYearCHD  \n",
       "id              \n",
       "0            1  \n",
       "1            0  \n",
       "2            0  \n",
       "3            1  \n",
       "4            0  "
      ]
     },
     "execution_count": 6,
     "metadata": {},
     "output_type": "execute_result"
    }
   ],
   "source": [
    "df.head()"
   ]
  },
  {
   "cell_type": "code",
   "execution_count": 7,
   "id": "de9d256a",
   "metadata": {
    "scrolled": true
   },
   "outputs": [
    {
     "data": {
      "text/html": [
       "<div>\n",
       "<style scoped>\n",
       "    .dataframe tbody tr th:only-of-type {\n",
       "        vertical-align: middle;\n",
       "    }\n",
       "\n",
       "    .dataframe tbody tr th {\n",
       "        vertical-align: top;\n",
       "    }\n",
       "\n",
       "    .dataframe thead th {\n",
       "        text-align: right;\n",
       "    }\n",
       "</style>\n",
       "<table border=\"1\" class=\"dataframe\">\n",
       "  <thead>\n",
       "    <tr style=\"text-align: right;\">\n",
       "      <th></th>\n",
       "      <th>age</th>\n",
       "      <th>education</th>\n",
       "      <th>cigsPerDay</th>\n",
       "      <th>BPMeds</th>\n",
       "      <th>prevalentStroke</th>\n",
       "      <th>prevalentHyp</th>\n",
       "      <th>diabetes</th>\n",
       "      <th>totChol</th>\n",
       "      <th>sysBP</th>\n",
       "      <th>diaBP</th>\n",
       "      <th>BMI</th>\n",
       "      <th>heartRate</th>\n",
       "      <th>glucose</th>\n",
       "      <th>TenYearCHD</th>\n",
       "    </tr>\n",
       "  </thead>\n",
       "  <tbody>\n",
       "    <tr>\n",
       "      <th>age</th>\n",
       "      <td>1.000000</td>\n",
       "      <td>-0.172559</td>\n",
       "      <td>-0.192335</td>\n",
       "      <td>0.124376</td>\n",
       "      <td>0.059038</td>\n",
       "      <td>0.308826</td>\n",
       "      <td>0.107875</td>\n",
       "      <td>0.274028</td>\n",
       "      <td>0.404845</td>\n",
       "      <td>0.221896</td>\n",
       "      <td>0.138176</td>\n",
       "      <td>-0.002596</td>\n",
       "      <td>0.116135</td>\n",
       "      <td>0.224927</td>\n",
       "    </tr>\n",
       "    <tr>\n",
       "      <th>education</th>\n",
       "      <td>-0.172559</td>\n",
       "      <td>1.000000</td>\n",
       "      <td>0.011126</td>\n",
       "      <td>-0.019920</td>\n",
       "      <td>-0.034194</td>\n",
       "      <td>-0.084817</td>\n",
       "      <td>-0.052013</td>\n",
       "      <td>-0.020781</td>\n",
       "      <td>-0.137195</td>\n",
       "      <td>-0.060801</td>\n",
       "      <td>-0.133313</td>\n",
       "      <td>-0.046980</td>\n",
       "      <td>-0.038732</td>\n",
       "      <td>-0.052751</td>\n",
       "    </tr>\n",
       "    <tr>\n",
       "      <th>cigsPerDay</th>\n",
       "      <td>-0.192335</td>\n",
       "      <td>0.011126</td>\n",
       "      <td>1.000000</td>\n",
       "      <td>-0.037080</td>\n",
       "      <td>-0.042057</td>\n",
       "      <td>-0.079312</td>\n",
       "      <td>-0.049016</td>\n",
       "      <td>-0.024703</td>\n",
       "      <td>-0.100834</td>\n",
       "      <td>-0.068785</td>\n",
       "      <td>-0.100996</td>\n",
       "      <td>0.066759</td>\n",
       "      <td>-0.068797</td>\n",
       "      <td>0.066778</td>\n",
       "    </tr>\n",
       "    <tr>\n",
       "      <th>BPMeds</th>\n",
       "      <td>0.124376</td>\n",
       "      <td>-0.019920</td>\n",
       "      <td>-0.037080</td>\n",
       "      <td>1.000000</td>\n",
       "      <td>0.119402</td>\n",
       "      <td>0.259548</td>\n",
       "      <td>0.071316</td>\n",
       "      <td>0.083299</td>\n",
       "      <td>0.263729</td>\n",
       "      <td>0.201217</td>\n",
       "      <td>0.087932</td>\n",
       "      <td>0.018107</td>\n",
       "      <td>0.064490</td>\n",
       "      <td>0.088020</td>\n",
       "    </tr>\n",
       "    <tr>\n",
       "      <th>prevalentStroke</th>\n",
       "      <td>0.059038</td>\n",
       "      <td>-0.034194</td>\n",
       "      <td>-0.042057</td>\n",
       "      <td>0.119402</td>\n",
       "      <td>1.000000</td>\n",
       "      <td>0.071652</td>\n",
       "      <td>0.010115</td>\n",
       "      <td>-0.010832</td>\n",
       "      <td>0.057568</td>\n",
       "      <td>0.047235</td>\n",
       "      <td>0.018602</td>\n",
       "      <td>-0.019184</td>\n",
       "      <td>0.023607</td>\n",
       "      <td>0.068627</td>\n",
       "    </tr>\n",
       "    <tr>\n",
       "      <th>prevalentHyp</th>\n",
       "      <td>0.308826</td>\n",
       "      <td>-0.084817</td>\n",
       "      <td>-0.079312</td>\n",
       "      <td>0.259548</td>\n",
       "      <td>0.071652</td>\n",
       "      <td>1.000000</td>\n",
       "      <td>0.082565</td>\n",
       "      <td>0.159680</td>\n",
       "      <td>0.699285</td>\n",
       "      <td>0.612897</td>\n",
       "      <td>0.300464</td>\n",
       "      <td>0.150815</td>\n",
       "      <td>0.086658</td>\n",
       "      <td>0.166544</td>\n",
       "    </tr>\n",
       "    <tr>\n",
       "      <th>diabetes</th>\n",
       "      <td>0.107875</td>\n",
       "      <td>-0.052013</td>\n",
       "      <td>-0.049016</td>\n",
       "      <td>0.071316</td>\n",
       "      <td>0.010115</td>\n",
       "      <td>0.082565</td>\n",
       "      <td>1.000000</td>\n",
       "      <td>0.059080</td>\n",
       "      <td>0.124011</td>\n",
       "      <td>0.061165</td>\n",
       "      <td>0.089112</td>\n",
       "      <td>0.039742</td>\n",
       "      <td>0.620211</td>\n",
       "      <td>0.103681</td>\n",
       "    </tr>\n",
       "    <tr>\n",
       "      <th>totChol</th>\n",
       "      <td>0.274028</td>\n",
       "      <td>-0.020781</td>\n",
       "      <td>-0.024703</td>\n",
       "      <td>0.083299</td>\n",
       "      <td>-0.010832</td>\n",
       "      <td>0.159680</td>\n",
       "      <td>0.059080</td>\n",
       "      <td>1.000000</td>\n",
       "      <td>0.199159</td>\n",
       "      <td>0.154974</td>\n",
       "      <td>0.114305</td>\n",
       "      <td>0.087458</td>\n",
       "      <td>0.062723</td>\n",
       "      <td>0.094306</td>\n",
       "    </tr>\n",
       "    <tr>\n",
       "      <th>sysBP</th>\n",
       "      <td>0.404845</td>\n",
       "      <td>-0.137195</td>\n",
       "      <td>-0.100834</td>\n",
       "      <td>0.263729</td>\n",
       "      <td>0.057568</td>\n",
       "      <td>0.699285</td>\n",
       "      <td>0.124011</td>\n",
       "      <td>0.199159</td>\n",
       "      <td>1.000000</td>\n",
       "      <td>0.781908</td>\n",
       "      <td>0.333864</td>\n",
       "      <td>0.178262</td>\n",
       "      <td>0.143090</td>\n",
       "      <td>0.212703</td>\n",
       "    </tr>\n",
       "    <tr>\n",
       "      <th>diaBP</th>\n",
       "      <td>0.221896</td>\n",
       "      <td>-0.060801</td>\n",
       "      <td>-0.068785</td>\n",
       "      <td>0.201217</td>\n",
       "      <td>0.047235</td>\n",
       "      <td>0.612897</td>\n",
       "      <td>0.061165</td>\n",
       "      <td>0.154974</td>\n",
       "      <td>0.781908</td>\n",
       "      <td>1.000000</td>\n",
       "      <td>0.380498</td>\n",
       "      <td>0.174904</td>\n",
       "      <td>0.071499</td>\n",
       "      <td>0.135979</td>\n",
       "    </tr>\n",
       "    <tr>\n",
       "      <th>BMI</th>\n",
       "      <td>0.138176</td>\n",
       "      <td>-0.133313</td>\n",
       "      <td>-0.100996</td>\n",
       "      <td>0.087932</td>\n",
       "      <td>0.018602</td>\n",
       "      <td>0.300464</td>\n",
       "      <td>0.089112</td>\n",
       "      <td>0.114305</td>\n",
       "      <td>0.333864</td>\n",
       "      <td>0.380498</td>\n",
       "      <td>1.000000</td>\n",
       "      <td>0.069655</td>\n",
       "      <td>0.093454</td>\n",
       "      <td>0.066947</td>\n",
       "    </tr>\n",
       "    <tr>\n",
       "      <th>heartRate</th>\n",
       "      <td>-0.002596</td>\n",
       "      <td>-0.046980</td>\n",
       "      <td>0.066759</td>\n",
       "      <td>0.018107</td>\n",
       "      <td>-0.019184</td>\n",
       "      <td>0.150815</td>\n",
       "      <td>0.039742</td>\n",
       "      <td>0.087458</td>\n",
       "      <td>0.178262</td>\n",
       "      <td>0.174904</td>\n",
       "      <td>0.069655</td>\n",
       "      <td>1.000000</td>\n",
       "      <td>0.088334</td>\n",
       "      <td>0.020241</td>\n",
       "    </tr>\n",
       "    <tr>\n",
       "      <th>glucose</th>\n",
       "      <td>0.116135</td>\n",
       "      <td>-0.038732</td>\n",
       "      <td>-0.068797</td>\n",
       "      <td>0.064490</td>\n",
       "      <td>0.023607</td>\n",
       "      <td>0.086658</td>\n",
       "      <td>0.620211</td>\n",
       "      <td>0.062723</td>\n",
       "      <td>0.143090</td>\n",
       "      <td>0.071499</td>\n",
       "      <td>0.093454</td>\n",
       "      <td>0.088334</td>\n",
       "      <td>1.000000</td>\n",
       "      <td>0.138200</td>\n",
       "    </tr>\n",
       "    <tr>\n",
       "      <th>TenYearCHD</th>\n",
       "      <td>0.224927</td>\n",
       "      <td>-0.052751</td>\n",
       "      <td>0.066778</td>\n",
       "      <td>0.088020</td>\n",
       "      <td>0.068627</td>\n",
       "      <td>0.166544</td>\n",
       "      <td>0.103681</td>\n",
       "      <td>0.094306</td>\n",
       "      <td>0.212703</td>\n",
       "      <td>0.135979</td>\n",
       "      <td>0.066947</td>\n",
       "      <td>0.020241</td>\n",
       "      <td>0.138200</td>\n",
       "      <td>1.000000</td>\n",
       "    </tr>\n",
       "  </tbody>\n",
       "</table>\n",
       "</div>"
      ],
      "text/plain": [
       "                      age  education  cigsPerDay    BPMeds  prevalentStroke  \\\n",
       "age              1.000000  -0.172559   -0.192335  0.124376         0.059038   \n",
       "education       -0.172559   1.000000    0.011126 -0.019920        -0.034194   \n",
       "cigsPerDay      -0.192335   0.011126    1.000000 -0.037080        -0.042057   \n",
       "BPMeds           0.124376  -0.019920   -0.037080  1.000000         0.119402   \n",
       "prevalentStroke  0.059038  -0.034194   -0.042057  0.119402         1.000000   \n",
       "prevalentHyp     0.308826  -0.084817   -0.079312  0.259548         0.071652   \n",
       "diabetes         0.107875  -0.052013   -0.049016  0.071316         0.010115   \n",
       "totChol          0.274028  -0.020781   -0.024703  0.083299        -0.010832   \n",
       "sysBP            0.404845  -0.137195   -0.100834  0.263729         0.057568   \n",
       "diaBP            0.221896  -0.060801   -0.068785  0.201217         0.047235   \n",
       "BMI              0.138176  -0.133313   -0.100996  0.087932         0.018602   \n",
       "heartRate       -0.002596  -0.046980    0.066759  0.018107        -0.019184   \n",
       "glucose          0.116135  -0.038732   -0.068797  0.064490         0.023607   \n",
       "TenYearCHD       0.224927  -0.052751    0.066778  0.088020         0.068627   \n",
       "\n",
       "                 prevalentHyp  diabetes   totChol     sysBP     diaBP  \\\n",
       "age                  0.308826  0.107875  0.274028  0.404845  0.221896   \n",
       "education           -0.084817 -0.052013 -0.020781 -0.137195 -0.060801   \n",
       "cigsPerDay          -0.079312 -0.049016 -0.024703 -0.100834 -0.068785   \n",
       "BPMeds               0.259548  0.071316  0.083299  0.263729  0.201217   \n",
       "prevalentStroke      0.071652  0.010115 -0.010832  0.057568  0.047235   \n",
       "prevalentHyp         1.000000  0.082565  0.159680  0.699285  0.612897   \n",
       "diabetes             0.082565  1.000000  0.059080  0.124011  0.061165   \n",
       "totChol              0.159680  0.059080  1.000000  0.199159  0.154974   \n",
       "sysBP                0.699285  0.124011  0.199159  1.000000  0.781908   \n",
       "diaBP                0.612897  0.061165  0.154974  0.781908  1.000000   \n",
       "BMI                  0.300464  0.089112  0.114305  0.333864  0.380498   \n",
       "heartRate            0.150815  0.039742  0.087458  0.178262  0.174904   \n",
       "glucose              0.086658  0.620211  0.062723  0.143090  0.071499   \n",
       "TenYearCHD           0.166544  0.103681  0.094306  0.212703  0.135979   \n",
       "\n",
       "                      BMI  heartRate   glucose  TenYearCHD  \n",
       "age              0.138176  -0.002596  0.116135    0.224927  \n",
       "education       -0.133313  -0.046980 -0.038732   -0.052751  \n",
       "cigsPerDay      -0.100996   0.066759 -0.068797    0.066778  \n",
       "BPMeds           0.087932   0.018107  0.064490    0.088020  \n",
       "prevalentStroke  0.018602  -0.019184  0.023607    0.068627  \n",
       "prevalentHyp     0.300464   0.150815  0.086658    0.166544  \n",
       "diabetes         0.089112   0.039742  0.620211    0.103681  \n",
       "totChol          0.114305   0.087458  0.062723    0.094306  \n",
       "sysBP            0.333864   0.178262  0.143090    0.212703  \n",
       "diaBP            0.380498   0.174904  0.071499    0.135979  \n",
       "BMI              1.000000   0.069655  0.093454    0.066947  \n",
       "heartRate        0.069655   1.000000  0.088334    0.020241  \n",
       "glucose          0.093454   0.088334  1.000000    0.138200  \n",
       "TenYearCHD       0.066947   0.020241  0.138200    1.000000  "
      ]
     },
     "execution_count": 7,
     "metadata": {},
     "output_type": "execute_result"
    }
   ],
   "source": [
    "df.corr()"
   ]
  },
  {
   "cell_type": "markdown",
   "id": "d89c5559",
   "metadata": {},
   "source": [
    "## Y high correlations with age, prevalentHyp, sysBP, diaBP"
   ]
  },
  {
   "cell_type": "code",
   "execution_count": 8,
   "id": "bd957a97",
   "metadata": {},
   "outputs": [
    {
     "data": {
      "text/plain": [
       "<AxesSubplot:xlabel='age', ylabel='TenYearCHD'>"
      ]
     },
     "execution_count": 8,
     "metadata": {},
     "output_type": "execute_result"
    },
    {
     "data": {
      "image/png": "[encoded data removed]",
      "text/plain": [
       "<Figure size 432x288 with 1 Axes>"
      ]
     },
     "metadata": {
      "needs_background": "light"
     },
     "output_type": "display_data"
    }
   ],
   "source": [
    "sns.scatterplot(x=df['age'],y=df['TenYearCHD'])"
   ]
  },
  {
   "cell_type": "code",
   "execution_count": 9,
   "id": "53d7cfd3",
   "metadata": {},
   "outputs": [
    {
     "data": {
      "text/plain": [
       "<AxesSubplot:>"
      ]
     },
     "execution_count": 9,
     "metadata": {},
     "output_type": "execute_result"
    },
    {
     "data": {
      "image/png": "[encoded data removed]",
      "text/plain": [
       "<Figure size 936x936 with 2 Axes>"
      ]
     },
     "metadata": {
      "needs_background": "light"
     },
     "output_type": "display_data"
    }
   ],
   "source": [
    "\n",
    "plt.figure(figsize=(13,13))\n",
    "sns.heatmap(df.corr(),annot=True)\n"
   ]
  },
  {
   "cell_type": "code",
   "execution_count": 10,
   "id": "7d74b13d",
   "metadata": {},
   "outputs": [
    {
     "data": {
      "text/plain": [
       "<AxesSubplot:xlabel='TenYearCHD', ylabel='Density'>"
      ]
     },
     "execution_count": 10,
     "metadata": {},
     "output_type": "execute_result"
    },
    {
     "data": {
      "image/png": "[encoded data removed]",
      "text/plain": [
       "<Figure size 432x288 with 1 Axes>"
      ]
     },
     "metadata": {
      "needs_background": "light"
     },
     "output_type": "display_data"
    }
   ],
   "source": [
    "sns.kdeplot(x=df['TenYearCHD'])"
   ]
  },
  {
   "cell_type": "code",
   "execution_count": 11,
   "id": "cc8697e5",
   "metadata": {},
   "outputs": [
    {
     "data": {
      "image/png": "[encoded data removed]",
      "text/plain": [
       "<Figure size 1440x1440 with 16 Axes>"
      ]
     },
     "metadata": {
      "needs_background": "light"
     },
     "output_type": "display_data"
    }
   ],
   "source": [
    "def draw_histograms(dataframe, features, rows, cols):\n",
    "    fig=plt.figure(figsize=(20,20))\n",
    "    for i, feature in enumerate(features):\n",
    "        ax=fig.add_subplot(rows,cols,i+1)\n",
    "        dataframe[feature].hist(bins=20,ax=ax,facecolor='midnightblue')\n",
    "        ax.set_title(feature+\" Distribution\")\n",
    "        \n",
    "    fig.tight_layout()  \n",
    "    plt.show()\n",
    "draw_histograms(df,df.columns,6,3)\n"
   ]
  },
  {
   "cell_type": "code",
   "execution_count": null,
   "id": "04f58c4c",
   "metadata": {},
   "outputs": [],
   "source": []
  },
  {
   "cell_type": "code",
   "execution_count": null,
   "id": "80bc9cfa",
   "metadata": {},
   "outputs": [],
   "source": []
  },
  {
   "cell_type": "code",
   "execution_count": 32,
   "id": "2092f1d7",
   "metadata": {},
   "outputs": [
    {
     "name": "stdout",
     "output_type": "stream",
     "text": [
      "<class 'pandas.core.frame.DataFrame'>\n",
      "Int64Index: 3390 entries, 0 to 3389\n",
      "Data columns (total 16 columns):\n",
      " #   Column           Non-Null Count  Dtype  \n",
      "---  ------           --------------  -----  \n",
      " 0   age              3390 non-null   int64  \n",
      " 1   education        3303 non-null   float64\n",
      " 2   sex              3390 non-null   object \n",
      " 3   is_smoking       3390 non-null   object \n",
      " 4   cigsPerDay       3368 non-null   float64\n",
      " 5   BPMeds           3346 non-null   float64\n",
      " 6   prevalentStroke  3390 non-null   int64  \n",
      " 7   prevalentHyp     3390 non-null   int64  \n",
      " 8   diabetes         3390 non-null   int64  \n",
      " 9   totChol          3352 non-null   float64\n",
      " 10  sysBP            3390 non-null   float64\n",
      " 11  diaBP            3390 non-null   float64\n",
      " 12  BMI              3376 non-null   float64\n",
      " 13  heartRate        3389 non-null   float64\n",
      " 14  glucose          3086 non-null   float64\n",
      " 15  TenYearCHD       3390 non-null   int64  \n",
      "dtypes: float64(9), int64(5), object(2)\n",
      "memory usage: 450.2+ KB\n"
     ]
    }
   ],
   "source": [
    "df.info()"
   ]
  },
  {
   "cell_type": "code",
   "execution_count": null,
   "id": "d912a3ac",
   "metadata": {},
   "outputs": [],
   "source": []
  },
  {
   "cell_type": "code",
   "execution_count": 15,
   "id": "ffa50eaf",
   "metadata": {
    "scrolled": false
   },
   "outputs": [
    {
     "data": {
      "text/plain": [
       "age                  0\n",
       "education           87\n",
       "sex                  0\n",
       "is_smoking           0\n",
       "cigsPerDay          22\n",
       "BPMeds              44\n",
       "prevalentStroke      0\n",
       "prevalentHyp         0\n",
       "diabetes             0\n",
       "totChol             38\n",
       "sysBP                0\n",
       "diaBP                0\n",
       "BMI                 14\n",
       "heartRate            1\n",
       "glucose            304\n",
       "TenYearCHD           0\n",
       "dtype: int64"
      ]
     },
     "execution_count": 15,
     "metadata": {},
     "output_type": "execute_result"
    }
   ],
   "source": [
    "df.isnull().sum()"
   ]
  },
  {
   "cell_type": "code",
   "execution_count": 18,
   "id": "329c8ac8",
   "metadata": {
    "scrolled": true
   },
   "outputs": [
    {
     "data": {
      "text/plain": [
       "0    2879\n",
       "1     511\n",
       "Name: TenYearCHD, dtype: int64"
      ]
     },
     "execution_count": 18,
     "metadata": {},
     "output_type": "execute_result"
    }
   ],
   "source": [
    "df['TenYearCHD'].value_counts()"
   ]
  },
  {
   "cell_type": "code",
   "execution_count": 26,
   "id": "5129cbc8",
   "metadata": {},
   "outputs": [],
   "source": [
    "chd1 = df[df['TenYearCHD']==1]\n",
    "chd0 = df[df['TenYearCHD']==0]"
   ]
  },
  {
   "cell_type": "code",
   "execution_count": 33,
   "id": "186fb4aa",
   "metadata": {},
   "outputs": [
    {
     "data": {
      "text/html": [
       "<div>\n",
       "<style scoped>\n",
       "    .dataframe tbody tr th:only-of-type {\n",
       "        vertical-align: middle;\n",
       "    }\n",
       "\n",
       "    .dataframe tbody tr th {\n",
       "        vertical-align: top;\n",
       "    }\n",
       "\n",
       "    .dataframe thead th {\n",
       "        text-align: right;\n",
       "    }\n",
       "</style>\n",
       "<table border=\"1\" class=\"dataframe\">\n",
       "  <thead>\n",
       "    <tr style=\"text-align: right;\">\n",
       "      <th></th>\n",
       "      <th>age</th>\n",
       "      <th>education</th>\n",
       "      <th>cigsPerDay</th>\n",
       "      <th>BPMeds</th>\n",
       "      <th>prevalentStroke</th>\n",
       "      <th>prevalentHyp</th>\n",
       "      <th>diabetes</th>\n",
       "      <th>totChol</th>\n",
       "      <th>sysBP</th>\n",
       "      <th>diaBP</th>\n",
       "      <th>BMI</th>\n",
       "      <th>heartRate</th>\n",
       "      <th>glucose</th>\n",
       "      <th>TenYearCHD</th>\n",
       "    </tr>\n",
       "  </thead>\n",
       "  <tbody>\n",
       "    <tr>\n",
       "      <th>count</th>\n",
       "      <td>3390.000000</td>\n",
       "      <td>3303.000000</td>\n",
       "      <td>3368.000000</td>\n",
       "      <td>3346.000000</td>\n",
       "      <td>3390.000000</td>\n",
       "      <td>3390.000000</td>\n",
       "      <td>3390.000000</td>\n",
       "      <td>3352.000000</td>\n",
       "      <td>3390.00000</td>\n",
       "      <td>3390.000000</td>\n",
       "      <td>3376.000000</td>\n",
       "      <td>3389.000000</td>\n",
       "      <td>3086.000000</td>\n",
       "      <td>3390.000000</td>\n",
       "    </tr>\n",
       "    <tr>\n",
       "      <th>mean</th>\n",
       "      <td>49.542183</td>\n",
       "      <td>1.970936</td>\n",
       "      <td>9.069477</td>\n",
       "      <td>0.029886</td>\n",
       "      <td>0.006490</td>\n",
       "      <td>0.315339</td>\n",
       "      <td>0.025664</td>\n",
       "      <td>237.074284</td>\n",
       "      <td>132.60118</td>\n",
       "      <td>82.883038</td>\n",
       "      <td>25.794964</td>\n",
       "      <td>75.977279</td>\n",
       "      <td>82.086520</td>\n",
       "      <td>0.150737</td>\n",
       "    </tr>\n",
       "    <tr>\n",
       "      <th>std</th>\n",
       "      <td>8.592878</td>\n",
       "      <td>1.019081</td>\n",
       "      <td>11.879078</td>\n",
       "      <td>0.170299</td>\n",
       "      <td>0.080309</td>\n",
       "      <td>0.464719</td>\n",
       "      <td>0.158153</td>\n",
       "      <td>45.247430</td>\n",
       "      <td>22.29203</td>\n",
       "      <td>12.023581</td>\n",
       "      <td>4.115449</td>\n",
       "      <td>11.971868</td>\n",
       "      <td>24.244753</td>\n",
       "      <td>0.357846</td>\n",
       "    </tr>\n",
       "    <tr>\n",
       "      <th>min</th>\n",
       "      <td>32.000000</td>\n",
       "      <td>1.000000</td>\n",
       "      <td>0.000000</td>\n",
       "      <td>0.000000</td>\n",
       "      <td>0.000000</td>\n",
       "      <td>0.000000</td>\n",
       "      <td>0.000000</td>\n",
       "      <td>107.000000</td>\n",
       "      <td>83.50000</td>\n",
       "      <td>48.000000</td>\n",
       "      <td>15.960000</td>\n",
       "      <td>45.000000</td>\n",
       "      <td>40.000000</td>\n",
       "      <td>0.000000</td>\n",
       "    </tr>\n",
       "    <tr>\n",
       "      <th>25%</th>\n",
       "      <td>42.000000</td>\n",
       "      <td>1.000000</td>\n",
       "      <td>0.000000</td>\n",
       "      <td>0.000000</td>\n",
       "      <td>0.000000</td>\n",
       "      <td>0.000000</td>\n",
       "      <td>0.000000</td>\n",
       "      <td>206.000000</td>\n",
       "      <td>117.00000</td>\n",
       "      <td>74.500000</td>\n",
       "      <td>23.020000</td>\n",
       "      <td>68.000000</td>\n",
       "      <td>71.000000</td>\n",
       "      <td>0.000000</td>\n",
       "    </tr>\n",
       "    <tr>\n",
       "      <th>50%</th>\n",
       "      <td>49.000000</td>\n",
       "      <td>2.000000</td>\n",
       "      <td>0.000000</td>\n",
       "      <td>0.000000</td>\n",
       "      <td>0.000000</td>\n",
       "      <td>0.000000</td>\n",
       "      <td>0.000000</td>\n",
       "      <td>234.000000</td>\n",
       "      <td>128.50000</td>\n",
       "      <td>82.000000</td>\n",
       "      <td>25.380000</td>\n",
       "      <td>75.000000</td>\n",
       "      <td>78.000000</td>\n",
       "      <td>0.000000</td>\n",
       "    </tr>\n",
       "    <tr>\n",
       "      <th>75%</th>\n",
       "      <td>56.000000</td>\n",
       "      <td>3.000000</td>\n",
       "      <td>20.000000</td>\n",
       "      <td>0.000000</td>\n",
       "      <td>0.000000</td>\n",
       "      <td>1.000000</td>\n",
       "      <td>0.000000</td>\n",
       "      <td>264.000000</td>\n",
       "      <td>144.00000</td>\n",
       "      <td>90.000000</td>\n",
       "      <td>28.040000</td>\n",
       "      <td>83.000000</td>\n",
       "      <td>87.000000</td>\n",
       "      <td>0.000000</td>\n",
       "    </tr>\n",
       "    <tr>\n",
       "      <th>max</th>\n",
       "      <td>70.000000</td>\n",
       "      <td>4.000000</td>\n",
       "      <td>70.000000</td>\n",
       "      <td>1.000000</td>\n",
       "      <td>1.000000</td>\n",
       "      <td>1.000000</td>\n",
       "      <td>1.000000</td>\n",
       "      <td>696.000000</td>\n",
       "      <td>295.00000</td>\n",
       "      <td>142.500000</td>\n",
       "      <td>56.800000</td>\n",
       "      <td>143.000000</td>\n",
       "      <td>394.000000</td>\n",
       "      <td>1.000000</td>\n",
       "    </tr>\n",
       "  </tbody>\n",
       "</table>\n",
       "</div>"
      ],
      "text/plain": [
       "               age    education   cigsPerDay       BPMeds  prevalentStroke  \\\n",
       "count  3390.000000  3303.000000  3368.000000  3346.000000      3390.000000   \n",
       "mean     49.542183     1.970936     9.069477     0.029886         0.006490   \n",
       "std       8.592878     1.019081    11.879078     0.170299         0.080309   \n",
       "min      32.000000     1.000000     0.000000     0.000000         0.000000   \n",
       "25%      42.000000     1.000000     0.000000     0.000000         0.000000   \n",
       "50%      49.000000     2.000000     0.000000     0.000000         0.000000   \n",
       "75%      56.000000     3.000000    20.000000     0.000000         0.000000   \n",
       "max      70.000000     4.000000    70.000000     1.000000         1.000000   \n",
       "\n",
       "       prevalentHyp     diabetes      totChol       sysBP        diaBP  \\\n",
       "count   3390.000000  3390.000000  3352.000000  3390.00000  3390.000000   \n",
       "mean       0.315339     0.025664   237.074284   132.60118    82.883038   \n",
       "std        0.464719     0.158153    45.247430    22.29203    12.023581   \n",
       "min        0.000000     0.000000   107.000000    83.50000    48.000000   \n",
       "25%        0.000000     0.000000   206.000000   117.00000    74.500000   \n",
       "50%        0.000000     0.000000   234.000000   128.50000    82.000000   \n",
       "75%        1.000000     0.000000   264.000000   144.00000    90.000000   \n",
       "max        1.000000     1.000000   696.000000   295.00000   142.500000   \n",
       "\n",
       "               BMI    heartRate      glucose   TenYearCHD  \n",
       "count  3376.000000  3389.000000  3086.000000  3390.000000  \n",
       "mean     25.794964    75.977279    82.086520     0.150737  \n",
       "std       4.115449    11.971868    24.244753     0.357846  \n",
       "min      15.960000    45.000000    40.000000     0.000000  \n",
       "25%      23.020000    68.000000    71.000000     0.000000  \n",
       "50%      25.380000    75.000000    78.000000     0.000000  \n",
       "75%      28.040000    83.000000    87.000000     0.000000  \n",
       "max      56.800000   143.000000   394.000000     1.000000  "
      ]
     },
     "execution_count": 33,
     "metadata": {},
     "output_type": "execute_result"
    }
   ],
   "source": [
    "df.describe()"
   ]
  },
  {
   "cell_type": "code",
   "execution_count": 34,
   "id": "49e80495",
   "metadata": {},
   "outputs": [
    {
     "data": {
      "text/html": [
       "<div>\n",
       "<style scoped>\n",
       "    .dataframe tbody tr th:only-of-type {\n",
       "        vertical-align: middle;\n",
       "    }\n",
       "\n",
       "    .dataframe tbody tr th {\n",
       "        vertical-align: top;\n",
       "    }\n",
       "\n",
       "    .dataframe thead th {\n",
       "        text-align: right;\n",
       "    }\n",
       "</style>\n",
       "<table border=\"1\" class=\"dataframe\">\n",
       "  <thead>\n",
       "    <tr style=\"text-align: right;\">\n",
       "      <th></th>\n",
       "      <th>age</th>\n",
       "      <th>education</th>\n",
       "      <th>cigsPerDay</th>\n",
       "      <th>BPMeds</th>\n",
       "      <th>prevalentStroke</th>\n",
       "      <th>prevalentHyp</th>\n",
       "      <th>diabetes</th>\n",
       "      <th>totChol</th>\n",
       "      <th>sysBP</th>\n",
       "      <th>diaBP</th>\n",
       "      <th>BMI</th>\n",
       "      <th>heartRate</th>\n",
       "      <th>glucose</th>\n",
       "      <th>TenYearCHD</th>\n",
       "    </tr>\n",
       "  </thead>\n",
       "  <tbody>\n",
       "    <tr>\n",
       "      <th>count</th>\n",
       "      <td>511.000000</td>\n",
       "      <td>498.000000</td>\n",
       "      <td>510.000000</td>\n",
       "      <td>504.000000</td>\n",
       "      <td>511.000000</td>\n",
       "      <td>511.000000</td>\n",
       "      <td>511.000000</td>\n",
       "      <td>504.000000</td>\n",
       "      <td>511.000000</td>\n",
       "      <td>511.000000</td>\n",
       "      <td>504.000000</td>\n",
       "      <td>510.000000</td>\n",
       "      <td>472.000000</td>\n",
       "      <td>511.0</td>\n",
       "    </tr>\n",
       "    <tr>\n",
       "      <th>mean</th>\n",
       "      <td>54.129159</td>\n",
       "      <td>1.843373</td>\n",
       "      <td>10.947059</td>\n",
       "      <td>0.065476</td>\n",
       "      <td>0.019569</td>\n",
       "      <td>0.499022</td>\n",
       "      <td>0.064579</td>\n",
       "      <td>247.216270</td>\n",
       "      <td>143.854207</td>\n",
       "      <td>86.763209</td>\n",
       "      <td>26.452560</td>\n",
       "      <td>76.552941</td>\n",
       "      <td>89.970339</td>\n",
       "      <td>1.0</td>\n",
       "    </tr>\n",
       "    <tr>\n",
       "      <th>std</th>\n",
       "      <td>8.125664</td>\n",
       "      <td>1.032454</td>\n",
       "      <td>13.079143</td>\n",
       "      <td>0.247610</td>\n",
       "      <td>0.138651</td>\n",
       "      <td>0.500489</td>\n",
       "      <td>0.246023</td>\n",
       "      <td>49.471228</td>\n",
       "      <td>27.061219</td>\n",
       "      <td>14.043026</td>\n",
       "      <td>4.590605</td>\n",
       "      <td>12.171020</td>\n",
       "      <td>42.443958</td>\n",
       "      <td>0.0</td>\n",
       "    </tr>\n",
       "    <tr>\n",
       "      <th>min</th>\n",
       "      <td>35.000000</td>\n",
       "      <td>1.000000</td>\n",
       "      <td>0.000000</td>\n",
       "      <td>0.000000</td>\n",
       "      <td>0.000000</td>\n",
       "      <td>0.000000</td>\n",
       "      <td>0.000000</td>\n",
       "      <td>107.000000</td>\n",
       "      <td>83.500000</td>\n",
       "      <td>48.000000</td>\n",
       "      <td>15.960000</td>\n",
       "      <td>50.000000</td>\n",
       "      <td>45.000000</td>\n",
       "      <td>1.0</td>\n",
       "    </tr>\n",
       "    <tr>\n",
       "      <th>25%</th>\n",
       "      <td>48.000000</td>\n",
       "      <td>1.000000</td>\n",
       "      <td>0.000000</td>\n",
       "      <td>0.000000</td>\n",
       "      <td>0.000000</td>\n",
       "      <td>0.000000</td>\n",
       "      <td>0.000000</td>\n",
       "      <td>215.000000</td>\n",
       "      <td>126.000000</td>\n",
       "      <td>78.000000</td>\n",
       "      <td>23.322500</td>\n",
       "      <td>68.000000</td>\n",
       "      <td>72.000000</td>\n",
       "      <td>1.0</td>\n",
       "    </tr>\n",
       "    <tr>\n",
       "      <th>50%</th>\n",
       "      <td>55.000000</td>\n",
       "      <td>1.000000</td>\n",
       "      <td>4.000000</td>\n",
       "      <td>0.000000</td>\n",
       "      <td>0.000000</td>\n",
       "      <td>0.000000</td>\n",
       "      <td>0.000000</td>\n",
       "      <td>243.000000</td>\n",
       "      <td>139.000000</td>\n",
       "      <td>85.000000</td>\n",
       "      <td>26.190000</td>\n",
       "      <td>75.000000</td>\n",
       "      <td>79.500000</td>\n",
       "      <td>1.0</td>\n",
       "    </tr>\n",
       "    <tr>\n",
       "      <th>75%</th>\n",
       "      <td>61.000000</td>\n",
       "      <td>2.000000</td>\n",
       "      <td>20.000000</td>\n",
       "      <td>0.000000</td>\n",
       "      <td>0.000000</td>\n",
       "      <td>1.000000</td>\n",
       "      <td>0.000000</td>\n",
       "      <td>273.000000</td>\n",
       "      <td>158.000000</td>\n",
       "      <td>95.000000</td>\n",
       "      <td>28.925000</td>\n",
       "      <td>84.000000</td>\n",
       "      <td>92.000000</td>\n",
       "      <td>1.0</td>\n",
       "    </tr>\n",
       "    <tr>\n",
       "      <th>max</th>\n",
       "      <td>70.000000</td>\n",
       "      <td>4.000000</td>\n",
       "      <td>60.000000</td>\n",
       "      <td>1.000000</td>\n",
       "      <td>1.000000</td>\n",
       "      <td>1.000000</td>\n",
       "      <td>1.000000</td>\n",
       "      <td>600.000000</td>\n",
       "      <td>295.000000</td>\n",
       "      <td>135.000000</td>\n",
       "      <td>56.800000</td>\n",
       "      <td>120.000000</td>\n",
       "      <td>394.000000</td>\n",
       "      <td>1.0</td>\n",
       "    </tr>\n",
       "  </tbody>\n",
       "</table>\n",
       "</div>"
      ],
      "text/plain": [
       "              age   education  cigsPerDay      BPMeds  prevalentStroke  \\\n",
       "count  511.000000  498.000000  510.000000  504.000000       511.000000   \n",
       "mean    54.129159    1.843373   10.947059    0.065476         0.019569   \n",
       "std      8.125664    1.032454   13.079143    0.247610         0.138651   \n",
       "min     35.000000    1.000000    0.000000    0.000000         0.000000   \n",
       "25%     48.000000    1.000000    0.000000    0.000000         0.000000   \n",
       "50%     55.000000    1.000000    4.000000    0.000000         0.000000   \n",
       "75%     61.000000    2.000000   20.000000    0.000000         0.000000   \n",
       "max     70.000000    4.000000   60.000000    1.000000         1.000000   \n",
       "\n",
       "       prevalentHyp    diabetes     totChol       sysBP       diaBP  \\\n",
       "count    511.000000  511.000000  504.000000  511.000000  511.000000   \n",
       "mean       0.499022    0.064579  247.216270  143.854207   86.763209   \n",
       "std        0.500489    0.246023   49.471228   27.061219   14.043026   \n",
       "min        0.000000    0.000000  107.000000   83.500000   48.000000   \n",
       "25%        0.000000    0.000000  215.000000  126.000000   78.000000   \n",
       "50%        0.000000    0.000000  243.000000  139.000000   85.000000   \n",
       "75%        1.000000    0.000000  273.000000  158.000000   95.000000   \n",
       "max        1.000000    1.000000  600.000000  295.000000  135.000000   \n",
       "\n",
       "              BMI   heartRate     glucose  TenYearCHD  \n",
       "count  504.000000  510.000000  472.000000       511.0  \n",
       "mean    26.452560   76.552941   89.970339         1.0  \n",
       "std      4.590605   12.171020   42.443958         0.0  \n",
       "min     15.960000   50.000000   45.000000         1.0  \n",
       "25%     23.322500   68.000000   72.000000         1.0  \n",
       "50%     26.190000   75.000000   79.500000         1.0  \n",
       "75%     28.925000   84.000000   92.000000         1.0  \n",
       "max     56.800000  120.000000  394.000000         1.0  "
      ]
     },
     "execution_count": 34,
     "metadata": {},
     "output_type": "execute_result"
    }
   ],
   "source": [
    "chd1.describe()"
   ]
  },
  {
   "cell_type": "code",
   "execution_count": 35,
   "id": "18384e56",
   "metadata": {
    "scrolled": true
   },
   "outputs": [
    {
     "data": {
      "text/html": [
       "<div>\n",
       "<style scoped>\n",
       "    .dataframe tbody tr th:only-of-type {\n",
       "        vertical-align: middle;\n",
       "    }\n",
       "\n",
       "    .dataframe tbody tr th {\n",
       "        vertical-align: top;\n",
       "    }\n",
       "\n",
       "    .dataframe thead th {\n",
       "        text-align: right;\n",
       "    }\n",
       "</style>\n",
       "<table border=\"1\" class=\"dataframe\">\n",
       "  <thead>\n",
       "    <tr style=\"text-align: right;\">\n",
       "      <th></th>\n",
       "      <th>age</th>\n",
       "      <th>education</th>\n",
       "      <th>cigsPerDay</th>\n",
       "      <th>BPMeds</th>\n",
       "      <th>prevalentStroke</th>\n",
       "      <th>prevalentHyp</th>\n",
       "      <th>diabetes</th>\n",
       "      <th>totChol</th>\n",
       "      <th>sysBP</th>\n",
       "      <th>diaBP</th>\n",
       "      <th>BMI</th>\n",
       "      <th>heartRate</th>\n",
       "      <th>glucose</th>\n",
       "      <th>TenYearCHD</th>\n",
       "    </tr>\n",
       "  </thead>\n",
       "  <tbody>\n",
       "    <tr>\n",
       "      <th>count</th>\n",
       "      <td>2879.000000</td>\n",
       "      <td>2805.000000</td>\n",
       "      <td>2858.000000</td>\n",
       "      <td>2842.000000</td>\n",
       "      <td>2879.000000</td>\n",
       "      <td>2879.000000</td>\n",
       "      <td>2879.000000</td>\n",
       "      <td>2848.000000</td>\n",
       "      <td>2879.000000</td>\n",
       "      <td>2879.000000</td>\n",
       "      <td>2872.000000</td>\n",
       "      <td>2879.000000</td>\n",
       "      <td>2614.000000</td>\n",
       "      <td>2879.0</td>\n",
       "    </tr>\n",
       "    <tr>\n",
       "      <th>mean</th>\n",
       "      <td>48.728031</td>\n",
       "      <td>1.993583</td>\n",
       "      <td>8.734430</td>\n",
       "      <td>0.023575</td>\n",
       "      <td>0.004168</td>\n",
       "      <td>0.282737</td>\n",
       "      <td>0.018757</td>\n",
       "      <td>235.279494</td>\n",
       "      <td>130.603856</td>\n",
       "      <td>82.194338</td>\n",
       "      <td>25.679565</td>\n",
       "      <td>75.875304</td>\n",
       "      <td>80.662969</td>\n",
       "      <td>0.0</td>\n",
       "    </tr>\n",
       "    <tr>\n",
       "      <th>std</th>\n",
       "      <td>8.417156</td>\n",
       "      <td>1.015199</td>\n",
       "      <td>11.622571</td>\n",
       "      <td>0.151747</td>\n",
       "      <td>0.064437</td>\n",
       "      <td>0.450408</td>\n",
       "      <td>0.135688</td>\n",
       "      <td>44.225940</td>\n",
       "      <td>20.710453</td>\n",
       "      <td>11.495256</td>\n",
       "      <td>4.016071</td>\n",
       "      <td>11.935491</td>\n",
       "      <td>18.868206</td>\n",
       "      <td>0.0</td>\n",
       "    </tr>\n",
       "    <tr>\n",
       "      <th>min</th>\n",
       "      <td>32.000000</td>\n",
       "      <td>1.000000</td>\n",
       "      <td>0.000000</td>\n",
       "      <td>0.000000</td>\n",
       "      <td>0.000000</td>\n",
       "      <td>0.000000</td>\n",
       "      <td>0.000000</td>\n",
       "      <td>113.000000</td>\n",
       "      <td>83.500000</td>\n",
       "      <td>50.000000</td>\n",
       "      <td>16.480000</td>\n",
       "      <td>45.000000</td>\n",
       "      <td>40.000000</td>\n",
       "      <td>0.0</td>\n",
       "    </tr>\n",
       "    <tr>\n",
       "      <th>25%</th>\n",
       "      <td>42.000000</td>\n",
       "      <td>1.000000</td>\n",
       "      <td>0.000000</td>\n",
       "      <td>0.000000</td>\n",
       "      <td>0.000000</td>\n",
       "      <td>0.000000</td>\n",
       "      <td>0.000000</td>\n",
       "      <td>205.000000</td>\n",
       "      <td>116.000000</td>\n",
       "      <td>74.000000</td>\n",
       "      <td>22.910000</td>\n",
       "      <td>68.000000</td>\n",
       "      <td>71.000000</td>\n",
       "      <td>0.0</td>\n",
       "    </tr>\n",
       "    <tr>\n",
       "      <th>50%</th>\n",
       "      <td>48.000000</td>\n",
       "      <td>2.000000</td>\n",
       "      <td>0.000000</td>\n",
       "      <td>0.000000</td>\n",
       "      <td>0.000000</td>\n",
       "      <td>0.000000</td>\n",
       "      <td>0.000000</td>\n",
       "      <td>232.000000</td>\n",
       "      <td>127.000000</td>\n",
       "      <td>81.000000</td>\n",
       "      <td>25.230000</td>\n",
       "      <td>75.000000</td>\n",
       "      <td>78.000000</td>\n",
       "      <td>0.0</td>\n",
       "    </tr>\n",
       "    <tr>\n",
       "      <th>75%</th>\n",
       "      <td>55.000000</td>\n",
       "      <td>3.000000</td>\n",
       "      <td>20.000000</td>\n",
       "      <td>0.000000</td>\n",
       "      <td>0.000000</td>\n",
       "      <td>1.000000</td>\n",
       "      <td>0.000000</td>\n",
       "      <td>262.000000</td>\n",
       "      <td>141.000000</td>\n",
       "      <td>88.000000</td>\n",
       "      <td>27.870000</td>\n",
       "      <td>83.000000</td>\n",
       "      <td>86.000000</td>\n",
       "      <td>0.0</td>\n",
       "    </tr>\n",
       "    <tr>\n",
       "      <th>max</th>\n",
       "      <td>70.000000</td>\n",
       "      <td>4.000000</td>\n",
       "      <td>70.000000</td>\n",
       "      <td>1.000000</td>\n",
       "      <td>1.000000</td>\n",
       "      <td>1.000000</td>\n",
       "      <td>1.000000</td>\n",
       "      <td>696.000000</td>\n",
       "      <td>243.000000</td>\n",
       "      <td>142.500000</td>\n",
       "      <td>51.280000</td>\n",
       "      <td>143.000000</td>\n",
       "      <td>386.000000</td>\n",
       "      <td>0.0</td>\n",
       "    </tr>\n",
       "  </tbody>\n",
       "</table>\n",
       "</div>"
      ],
      "text/plain": [
       "               age    education   cigsPerDay       BPMeds  prevalentStroke  \\\n",
       "count  2879.000000  2805.000000  2858.000000  2842.000000      2879.000000   \n",
       "mean     48.728031     1.993583     8.734430     0.023575         0.004168   \n",
       "std       8.417156     1.015199    11.622571     0.151747         0.064437   \n",
       "min      32.000000     1.000000     0.000000     0.000000         0.000000   \n",
       "25%      42.000000     1.000000     0.000000     0.000000         0.000000   \n",
       "50%      48.000000     2.000000     0.000000     0.000000         0.000000   \n",
       "75%      55.000000     3.000000    20.000000     0.000000         0.000000   \n",
       "max      70.000000     4.000000    70.000000     1.000000         1.000000   \n",
       "\n",
       "       prevalentHyp     diabetes      totChol        sysBP        diaBP  \\\n",
       "count   2879.000000  2879.000000  2848.000000  2879.000000  2879.000000   \n",
       "mean       0.282737     0.018757   235.279494   130.603856    82.194338   \n",
       "std        0.450408     0.135688    44.225940    20.710453    11.495256   \n",
       "min        0.000000     0.000000   113.000000    83.500000    50.000000   \n",
       "25%        0.000000     0.000000   205.000000   116.000000    74.000000   \n",
       "50%        0.000000     0.000000   232.000000   127.000000    81.000000   \n",
       "75%        1.000000     0.000000   262.000000   141.000000    88.000000   \n",
       "max        1.000000     1.000000   696.000000   243.000000   142.500000   \n",
       "\n",
       "               BMI    heartRate      glucose  TenYearCHD  \n",
       "count  2872.000000  2879.000000  2614.000000      2879.0  \n",
       "mean     25.679565    75.875304    80.662969         0.0  \n",
       "std       4.016071    11.935491    18.868206         0.0  \n",
       "min      16.480000    45.000000    40.000000         0.0  \n",
       "25%      22.910000    68.000000    71.000000         0.0  \n",
       "50%      25.230000    75.000000    78.000000         0.0  \n",
       "75%      27.870000    83.000000    86.000000         0.0  \n",
       "max      51.280000   143.000000   386.000000         0.0  "
      ]
     },
     "execution_count": 35,
     "metadata": {},
     "output_type": "execute_result"
    }
   ],
   "source": [
    "chd0.describe()"
   ]
  },
  {
   "cell_type": "code",
   "execution_count": 36,
   "id": "7c69171a",
   "metadata": {},
   "outputs": [
    {
     "data": {
      "text/html": [
       "<div>\n",
       "<style scoped>\n",
       "    .dataframe tbody tr th:only-of-type {\n",
       "        vertical-align: middle;\n",
       "    }\n",
       "\n",
       "    .dataframe tbody tr th {\n",
       "        vertical-align: top;\n",
       "    }\n",
       "\n",
       "    .dataframe thead th {\n",
       "        text-align: right;\n",
       "    }\n",
       "</style>\n",
       "<table border=\"1\" class=\"dataframe\">\n",
       "  <thead>\n",
       "    <tr style=\"text-align: right;\">\n",
       "      <th></th>\n",
       "      <th>age</th>\n",
       "      <th>education</th>\n",
       "      <th>cigsPerDay</th>\n",
       "      <th>BPMeds</th>\n",
       "      <th>prevalentStroke</th>\n",
       "      <th>prevalentHyp</th>\n",
       "      <th>diabetes</th>\n",
       "      <th>totChol</th>\n",
       "      <th>sysBP</th>\n",
       "      <th>diaBP</th>\n",
       "      <th>BMI</th>\n",
       "      <th>heartRate</th>\n",
       "      <th>glucose</th>\n",
       "    </tr>\n",
       "    <tr>\n",
       "      <th>TenYearCHD</th>\n",
       "      <th></th>\n",
       "      <th></th>\n",
       "      <th></th>\n",
       "      <th></th>\n",
       "      <th></th>\n",
       "      <th></th>\n",
       "      <th></th>\n",
       "      <th></th>\n",
       "      <th></th>\n",
       "      <th></th>\n",
       "      <th></th>\n",
       "      <th></th>\n",
       "      <th></th>\n",
       "    </tr>\n",
       "  </thead>\n",
       "  <tbody>\n",
       "    <tr>\n",
       "      <th>0</th>\n",
       "      <td>48.728031</td>\n",
       "      <td>1.993583</td>\n",
       "      <td>8.734430</td>\n",
       "      <td>0.023575</td>\n",
       "      <td>0.004168</td>\n",
       "      <td>0.282737</td>\n",
       "      <td>0.018757</td>\n",
       "      <td>235.279494</td>\n",
       "      <td>130.603856</td>\n",
       "      <td>82.194338</td>\n",
       "      <td>25.679565</td>\n",
       "      <td>75.875304</td>\n",
       "      <td>80.662969</td>\n",
       "    </tr>\n",
       "    <tr>\n",
       "      <th>1</th>\n",
       "      <td>54.129159</td>\n",
       "      <td>1.843373</td>\n",
       "      <td>10.947059</td>\n",
       "      <td>0.065476</td>\n",
       "      <td>0.019569</td>\n",
       "      <td>0.499022</td>\n",
       "      <td>0.064579</td>\n",
       "      <td>247.216270</td>\n",
       "      <td>143.854207</td>\n",
       "      <td>86.763209</td>\n",
       "      <td>26.452560</td>\n",
       "      <td>76.552941</td>\n",
       "      <td>89.970339</td>\n",
       "    </tr>\n",
       "  </tbody>\n",
       "</table>\n",
       "</div>"
      ],
      "text/plain": [
       "                  age  education  cigsPerDay    BPMeds  prevalentStroke  \\\n",
       "TenYearCHD                                                                \n",
       "0           48.728031   1.993583    8.734430  0.023575         0.004168   \n",
       "1           54.129159   1.843373   10.947059  0.065476         0.019569   \n",
       "\n",
       "            prevalentHyp  diabetes     totChol       sysBP      diaBP  \\\n",
       "TenYearCHD                                                              \n",
       "0               0.282737  0.018757  235.279494  130.603856  82.194338   \n",
       "1               0.499022  0.064579  247.216270  143.854207  86.763209   \n",
       "\n",
       "                  BMI  heartRate    glucose  \n",
       "TenYearCHD                                   \n",
       "0           25.679565  75.875304  80.662969  \n",
       "1           26.452560  76.552941  89.970339  "
      ]
     },
     "execution_count": 36,
     "metadata": {},
     "output_type": "execute_result"
    }
   ],
   "source": [
    "df.groupby('TenYearCHD').mean()"
   ]
  },
  {
   "cell_type": "code",
   "execution_count": 37,
   "id": "6f235fb0",
   "metadata": {},
   "outputs": [
    {
     "name": "stdout",
     "output_type": "stream",
     "text": [
      "(511, 16)\n",
      "(2879, 16)\n"
     ]
    }
   ],
   "source": [
    "print(chd1.shape)\n",
    "print(chd0.shape)"
   ]
  },
  {
   "cell_type": "code",
   "execution_count": 39,
   "id": "105e3b46",
   "metadata": {},
   "outputs": [],
   "source": [
    "chd0_sample = chd0.sample(n=511)"
   ]
  },
  {
   "cell_type": "code",
   "execution_count": 41,
   "id": "6866268f",
   "metadata": {},
   "outputs": [],
   "source": [
    "new_data = pd.concat([chd0_sample,chd1],axis=0)"
   ]
  },
  {
   "cell_type": "code",
   "execution_count": 43,
   "id": "8f0ccfff",
   "metadata": {},
   "outputs": [
    {
     "data": {
      "text/plain": [
       "(1022, 16)"
      ]
     },
     "execution_count": 43,
     "metadata": {},
     "output_type": "execute_result"
    }
   ],
   "source": [
    "new_data.shape"
   ]
  },
  {
   "cell_type": "code",
   "execution_count": 44,
   "id": "f4d55c78",
   "metadata": {},
   "outputs": [],
   "source": [
    "from sklearn.model_selection import train_test_split"
   ]
  },
  {
   "cell_type": "code",
   "execution_count": null,
   "id": "0806e6bf",
   "metadata": {},
   "outputs": [],
   "source": [
    "new_data.drop(columns=['education'],inplace=True)"
   ]
  },
  {
   "cell_type": "code",
   "execution_count": 45,
   "id": "12688e43",
   "metadata": {},
   "outputs": [],
   "source": [
    "X = new_data.drop(columns='TenYearCHD')\n",
    "y = new_data['TenYearCHD']"
   ]
  },
  {
   "cell_type": "code",
   "execution_count": 82,
   "id": "73d02d6f",
   "metadata": {},
   "outputs": [
    {
     "name": "stderr",
     "output_type": "stream",
     "text": [
      "C:\\Users\\Syed Azeemuddin\\anaconda3\\lib\\site-packages\\pandas\\core\\arraylike.py:358: RuntimeWarning: divide by zero encountered in log\n",
      "  result = getattr(ufunc, method)(*inputs, **kwargs)\n",
      "C:\\Users\\Syed Azeemuddin\\anaconda3\\lib\\site-packages\\seaborn\\distributions.py:2557: FutureWarning: `distplot` is a deprecated function and will be removed in a future version. Please adapt your code to use either `displot` (a figure-level function with similar flexibility) or `histplot` (an axes-level function for histograms).\n",
      "  warnings.warn(msg, FutureWarning)\n",
      "C:\\Users\\Syed Azeemuddin\\anaconda3\\lib\\site-packages\\numpy\\lib\\function_base.py:3961: RuntimeWarning: invalid value encountered in subtract\n",
      "  diff_b_a = subtract(b, a)\n"
     ]
    },
    {
     "ename": "ValueError",
     "evalue": "cannot convert float NaN to integer",
     "output_type": "error",
     "traceback": [
      "\u001b[1;31m---------------------------------------------------------------------------\u001b[0m",
      "\u001b[1;31mValueError\u001b[0m                                Traceback (most recent call last)",
      "\u001b[1;32m<ipython-input-82-c90ddb7d6ac0>\u001b[0m in \u001b[0;36m<module>\u001b[1;34m\u001b[0m\n\u001b[1;32m----> 1\u001b[1;33m \u001b[0msns\u001b[0m\u001b[1;33m.\u001b[0m\u001b[0mdistplot\u001b[0m\u001b[1;33m(\u001b[0m\u001b[0mnp\u001b[0m\u001b[1;33m.\u001b[0m\u001b[0mlog\u001b[0m\u001b[1;33m(\u001b[0m\u001b[0my\u001b[0m\u001b[1;33m)\u001b[0m\u001b[1;33m)\u001b[0m\u001b[1;33m\u001b[0m\u001b[1;33m\u001b[0m\u001b[0m\n\u001b[0m",
      "\u001b[1;32m~\\anaconda3\\lib\\site-packages\\seaborn\\distributions.py\u001b[0m in \u001b[0;36mdistplot\u001b[1;34m(a, bins, hist, kde, rug, fit, hist_kws, kde_kws, rug_kws, fit_kws, color, vertical, norm_hist, axlabel, label, ax, x)\u001b[0m\n\u001b[0;32m   2610\u001b[0m     \u001b[1;32mif\u001b[0m \u001b[0mhist\u001b[0m\u001b[1;33m:\u001b[0m\u001b[1;33m\u001b[0m\u001b[1;33m\u001b[0m\u001b[0m\n\u001b[0;32m   2611\u001b[0m         \u001b[1;32mif\u001b[0m \u001b[0mbins\u001b[0m \u001b[1;32mis\u001b[0m \u001b[1;32mNone\u001b[0m\u001b[1;33m:\u001b[0m\u001b[1;33m\u001b[0m\u001b[1;33m\u001b[0m\u001b[0m\n\u001b[1;32m-> 2612\u001b[1;33m             \u001b[0mbins\u001b[0m \u001b[1;33m=\u001b[0m \u001b[0mmin\u001b[0m\u001b[1;33m(\u001b[0m\u001b[0m_freedman_diaconis_bins\u001b[0m\u001b[1;33m(\u001b[0m\u001b[0ma\u001b[0m\u001b[1;33m)\u001b[0m\u001b[1;33m,\u001b[0m \u001b[1;36m50\u001b[0m\u001b[1;33m)\u001b[0m\u001b[1;33m\u001b[0m\u001b[1;33m\u001b[0m\u001b[0m\n\u001b[0m\u001b[0;32m   2613\u001b[0m         \u001b[0mhist_kws\u001b[0m\u001b[1;33m.\u001b[0m\u001b[0msetdefault\u001b[0m\u001b[1;33m(\u001b[0m\u001b[1;34m\"alpha\"\u001b[0m\u001b[1;33m,\u001b[0m \u001b[1;36m0.4\u001b[0m\u001b[1;33m)\u001b[0m\u001b[1;33m\u001b[0m\u001b[1;33m\u001b[0m\u001b[0m\n\u001b[0;32m   2614\u001b[0m         \u001b[0mhist_kws\u001b[0m\u001b[1;33m.\u001b[0m\u001b[0msetdefault\u001b[0m\u001b[1;33m(\u001b[0m\u001b[1;34m\"density\"\u001b[0m\u001b[1;33m,\u001b[0m \u001b[0mnorm_hist\u001b[0m\u001b[1;33m)\u001b[0m\u001b[1;33m\u001b[0m\u001b[1;33m\u001b[0m\u001b[0m\n",
      "\u001b[1;32m~\\anaconda3\\lib\\site-packages\\seaborn\\distributions.py\u001b[0m in \u001b[0;36m_freedman_diaconis_bins\u001b[1;34m(a)\u001b[0m\n\u001b[0;32m   2401\u001b[0m         \u001b[1;32mreturn\u001b[0m \u001b[0mint\u001b[0m\u001b[1;33m(\u001b[0m\u001b[0mnp\u001b[0m\u001b[1;33m.\u001b[0m\u001b[0msqrt\u001b[0m\u001b[1;33m(\u001b[0m\u001b[0ma\u001b[0m\u001b[1;33m.\u001b[0m\u001b[0msize\u001b[0m\u001b[1;33m)\u001b[0m\u001b[1;33m)\u001b[0m\u001b[1;33m\u001b[0m\u001b[1;33m\u001b[0m\u001b[0m\n\u001b[0;32m   2402\u001b[0m     \u001b[1;32melse\u001b[0m\u001b[1;33m:\u001b[0m\u001b[1;33m\u001b[0m\u001b[1;33m\u001b[0m\u001b[0m\n\u001b[1;32m-> 2403\u001b[1;33m         \u001b[1;32mreturn\u001b[0m \u001b[0mint\u001b[0m\u001b[1;33m(\u001b[0m\u001b[0mnp\u001b[0m\u001b[1;33m.\u001b[0m\u001b[0mceil\u001b[0m\u001b[1;33m(\u001b[0m\u001b[1;33m(\u001b[0m\u001b[0ma\u001b[0m\u001b[1;33m.\u001b[0m\u001b[0mmax\u001b[0m\u001b[1;33m(\u001b[0m\u001b[1;33m)\u001b[0m \u001b[1;33m-\u001b[0m \u001b[0ma\u001b[0m\u001b[1;33m.\u001b[0m\u001b[0mmin\u001b[0m\u001b[1;33m(\u001b[0m\u001b[1;33m)\u001b[0m\u001b[1;33m)\u001b[0m \u001b[1;33m/\u001b[0m \u001b[0mh\u001b[0m\u001b[1;33m)\u001b[0m\u001b[1;33m)\u001b[0m\u001b[1;33m\u001b[0m\u001b[1;33m\u001b[0m\u001b[0m\n\u001b[0m\u001b[0;32m   2404\u001b[0m \u001b[1;33m\u001b[0m\u001b[0m\n\u001b[0;32m   2405\u001b[0m \u001b[1;33m\u001b[0m\u001b[0m\n",
      "\u001b[1;31mValueError\u001b[0m: cannot convert float NaN to integer"
     ]
    },
    {
     "data": {
      "image/png": "[encoded data removed]",
      "text/plain": [
       "<Figure size 432x288 with 1 Axes>"
      ]
     },
     "metadata": {
      "needs_background": "light"
     },
     "output_type": "display_data"
    }
   ],
   "source": [
    "sns.distplot(np.log(y))"
   ]
  },
  {
   "cell_type": "code",
   "execution_count": null,
   "id": "6fe4589f",
   "metadata": {},
   "outputs": [],
   "source": []
  },
  {
   "cell_type": "code",
   "execution_count": null,
   "id": "88c25fa6",
   "metadata": {},
   "outputs": [],
   "source": []
  },
  {
   "cell_type": "code",
   "execution_count": 46,
   "id": "d35c9838",
   "metadata": {},
   "outputs": [],
   "source": [
    "X_train,X_test,y_train,y_test = train_test_split(X,y,test_size=0.2,random_state=1)"
   ]
  },
  {
   "cell_type": "code",
   "execution_count": 47,
   "id": "1286cf39",
   "metadata": {},
   "outputs": [
    {
     "data": {
      "text/plain": [
       "1    409\n",
       "0    408\n",
       "Name: TenYearCHD, dtype: int64"
      ]
     },
     "execution_count": 47,
     "metadata": {},
     "output_type": "execute_result"
    }
   ],
   "source": [
    "y_train.value_counts()"
   ]
  },
  {
   "cell_type": "code",
   "execution_count": 48,
   "id": "e2b8be8b",
   "metadata": {},
   "outputs": [
    {
     "data": {
      "text/plain": [
       "0    103\n",
       "1    102\n",
       "Name: TenYearCHD, dtype: int64"
      ]
     },
     "execution_count": 48,
     "metadata": {},
     "output_type": "execute_result"
    }
   ],
   "source": [
    "y_test.value_counts()"
   ]
  },
  {
   "cell_type": "markdown",
   "id": "64e4d8ed",
   "metadata": {},
   "source": [
    "## X_train null object columns = 0, numeric cols = 7"
   ]
  },
  {
   "cell_type": "code",
   "execution_count": 49,
   "id": "0da23d68",
   "metadata": {},
   "outputs": [],
   "source": [
    "from sklearn.impute import SimpleImputer\n",
    "from sklearn.compose import make_column_transformer\n",
    "from sklearn.preprocessing import OneHotEncoder"
   ]
  },
  {
   "cell_type": "code",
   "execution_count": 54,
   "id": "ed9f9d02",
   "metadata": {},
   "outputs": [],
   "source": [
    "ohe = OneHotEncoder(sparse=False,drop='first')"
   ]
  },
  {
   "cell_type": "code",
   "execution_count": 51,
   "id": "e9567137",
   "metadata": {},
   "outputs": [],
   "source": [
    "si = SimpleImputer()\n",
    "si2 = SimpleImputer(strategy='most_frequent')"
   ]
  },
  {
   "cell_type": "code",
   "execution_count": 53,
   "id": "6108d06e",
   "metadata": {},
   "outputs": [
    {
     "name": "stdout",
     "output_type": "stream",
     "text": [
      "<class 'pandas.core.frame.DataFrame'>\n",
      "Int64Index: 817 entries, 3271 to 1546\n",
      "Data columns (total 15 columns):\n",
      " #   Column           Non-Null Count  Dtype  \n",
      "---  ------           --------------  -----  \n",
      " 0   age              817 non-null    int64  \n",
      " 1   education        800 non-null    float64\n",
      " 2   sex              817 non-null    object \n",
      " 3   is_smoking       817 non-null    object \n",
      " 4   cigsPerDay       811 non-null    float64\n",
      " 5   BPMeds           801 non-null    float64\n",
      " 6   prevalentStroke  817 non-null    int64  \n",
      " 7   prevalentHyp     817 non-null    int64  \n",
      " 8   diabetes         817 non-null    int64  \n",
      " 9   totChol          809 non-null    float64\n",
      " 10  sysBP            817 non-null    float64\n",
      " 11  diaBP            817 non-null    float64\n",
      " 12  BMI              812 non-null    float64\n",
      " 13  heartRate        817 non-null    float64\n",
      " 14  glucose          758 non-null    float64\n",
      "dtypes: float64(9), int64(4), object(2)\n",
      "memory usage: 102.1+ KB\n"
     ]
    }
   ],
   "source": [
    "X_train.info()"
   ]
  },
  {
   "cell_type": "code",
   "execution_count": 55,
   "id": "bf0ff2ea",
   "metadata": {},
   "outputs": [],
   "source": [
    "clf = make_column_transformer((si,[4,5,9,12,13,14]),\n",
    "                              (si2,[1]),\n",
    "                              (ohe,[2,3]),remainder='passthrough')"
   ]
  },
  {
   "cell_type": "code",
   "execution_count": null,
   "id": "743e8b68",
   "metadata": {},
   "outputs": [],
   "source": [
    "X_train1 = clf.fit_transform(X_train)"
   ]
  },
  {
   "cell_type": "code",
   "execution_count": null,
   "id": "e47e1096",
   "metadata": {},
   "outputs": [],
   "source": [
    "X_test1 = clf.transform(X_test)"
   ]
  },
  {
   "cell_type": "code",
   "execution_count": null,
   "id": "4e8e5693",
   "metadata": {},
   "outputs": [],
   "source": [
    "X_train1"
   ]
  },
  {
   "cell_type": "code",
   "execution_count": null,
   "id": "4477d804",
   "metadata": {},
   "outputs": [],
   "source": [
    "from sklearn.linear_model import LogisticRegression"
   ]
  },
  {
   "cell_type": "code",
   "execution_count": null,
   "id": "daa5ce3a",
   "metadata": {},
   "outputs": [],
   "source": [
    "lr = LogisticRegression()"
   ]
  },
  {
   "cell_type": "code",
   "execution_count": 65,
   "id": "28ba83d2",
   "metadata": {},
   "outputs": [],
   "source": [
    "from sklearn.preprocessing import StandardScaler"
   ]
  },
  {
   "cell_type": "code",
   "execution_count": 66,
   "id": "92c8b1f4",
   "metadata": {},
   "outputs": [],
   "source": [
    "scale = StandardScaler()"
   ]
  },
  {
   "cell_type": "code",
   "execution_count": null,
   "id": "ad47432c",
   "metadata": {
    "scrolled": true
   },
   "outputs": [],
   "source": [
    "X_train_scaled = scale.fit_transform(X_train1)\n",
    "X_test_scaled = scale.transform(X_test1)"
   ]
  },
  {
   "cell_type": "code",
   "execution_count": null,
   "id": "7ccf6f79",
   "metadata": {},
   "outputs": [],
   "source": [
    "X_train_scaled"
   ]
  },
  {
   "cell_type": "code",
   "execution_count": null,
   "id": "2b509af2",
   "metadata": {},
   "outputs": [],
   "source": [
    "lr.fit(X_train_scaled,y_train)"
   ]
  },
  {
   "cell_type": "code",
   "execution_count": null,
   "id": "7835f57e",
   "metadata": {},
   "outputs": [],
   "source": [
    "predictions = lr.predict(X_test1)"
   ]
  },
  {
   "cell_type": "code",
   "execution_count": null,
   "id": "c20b9247",
   "metadata": {},
   "outputs": [],
   "source": [
    "from sklearn.metrics import accuracy_score"
   ]
  },
  {
   "cell_type": "markdown",
   "id": "47ab6e2e",
   "metadata": {},
   "source": [
    "## SVM"
   ]
  },
  {
   "cell_type": "code",
   "execution_count": 67,
   "id": "3e887371",
   "metadata": {},
   "outputs": [],
   "source": [
    "from sklearn import svm"
   ]
  },
  {
   "cell_type": "code",
   "execution_count": 68,
   "id": "9fc7f839",
   "metadata": {},
   "outputs": [],
   "source": [
    "classifier = svm.SVC(kernel='linear')"
   ]
  },
  {
   "cell_type": "code",
   "execution_count": null,
   "id": "b4f1b384",
   "metadata": {},
   "outputs": [],
   "source": [
    "classifier.fit(X_train_scaled,y_train)"
   ]
  },
  {
   "cell_type": "code",
   "execution_count": null,
   "id": "c4f9a718",
   "metadata": {},
   "outputs": [],
   "source": [
    "x_train_pred=classifier.predict(X_train_scaled)\n",
    "train_data_accuracy=accuracy_score(x_train_pred,y_train)"
   ]
  },
  {
   "cell_type": "code",
   "execution_count": null,
   "id": "1ba55dc6",
   "metadata": {},
   "outputs": [],
   "source": [
    "print(train_data_accuracy)"
   ]
  },
  {
   "cell_type": "code",
   "execution_count": null,
   "id": "6d737252",
   "metadata": {},
   "outputs": [],
   "source": [
    "x_test_pred=classifier.predict(X_test_scaled)\n",
    "test_data_accuracy=accuracy_score(x_test_pred,y_test)\n",
    "print(f\"the accuracy is {test_data_accuracy}\")"
   ]
  },
  {
   "cell_type": "markdown",
   "id": "9f5d12d3",
   "metadata": {},
   "source": [
    "### FOR LOGISTIC REGRESSION"
   ]
  },
  {
   "cell_type": "code",
   "execution_count": 73,
   "id": "460e44d7",
   "metadata": {},
   "outputs": [],
   "source": [
    "from sklearn.linear_model import LogisticRegression"
   ]
  },
  {
   "cell_type": "code",
   "execution_count": 74,
   "id": "3cdf5954",
   "metadata": {},
   "outputs": [],
   "source": [
    "lr = LogisticRegression()"
   ]
  },
  {
   "cell_type": "code",
   "execution_count": 75,
   "id": "9c2311a7",
   "metadata": {},
   "outputs": [],
   "source": [
    "pipe = make_pipeline(clf,scale,lr)"
   ]
  },
  {
   "cell_type": "code",
   "execution_count": 76,
   "id": "fd96ab56",
   "metadata": {},
   "outputs": [
    {
     "data": {
      "text/html": [
       "<style>div.sk-top-container {color: black;background-color: white;}div.sk-toggleable {background-color: white;}label.sk-toggleable__label {cursor: pointer;display: block;width: 100%;margin-bottom: 0;padding: 0.2em 0.3em;box-sizing: border-box;text-align: center;}div.sk-toggleable__content {max-height: 0;max-width: 0;overflow: hidden;text-align: left;background-color: #f0f8ff;}div.sk-toggleable__content pre {margin: 0.2em;color: black;border-radius: 0.25em;background-color: #f0f8ff;}input.sk-toggleable__control:checked~div.sk-toggleable__content {max-height: 200px;max-width: 100%;overflow: auto;}div.sk-estimator input.sk-toggleable__control:checked~label.sk-toggleable__label {background-color: #d4ebff;}div.sk-label input.sk-toggleable__control:checked~label.sk-toggleable__label {background-color: #d4ebff;}input.sk-hidden--visually {border: 0;clip: rect(1px 1px 1px 1px);clip: rect(1px, 1px, 1px, 1px);height: 1px;margin: -1px;overflow: hidden;padding: 0;position: absolute;width: 1px;}div.sk-estimator {font-family: monospace;background-color: #f0f8ff;margin: 0.25em 0.25em;border: 1px dotted black;border-radius: 0.25em;box-sizing: border-box;}div.sk-estimator:hover {background-color: #d4ebff;}div.sk-parallel-item::after {content: \"\";width: 100%;border-bottom: 1px solid gray;flex-grow: 1;}div.sk-label:hover label.sk-toggleable__label {background-color: #d4ebff;}div.sk-serial::before {content: \"\";position: absolute;border-left: 1px solid gray;box-sizing: border-box;top: 2em;bottom: 0;left: 50%;}div.sk-serial {display: flex;flex-direction: column;align-items: center;background-color: white;}div.sk-item {z-index: 1;}div.sk-parallel {display: flex;align-items: stretch;justify-content: center;background-color: white;}div.sk-parallel-item {display: flex;flex-direction: column;position: relative;background-color: white;}div.sk-parallel-item:first-child::after {align-self: flex-end;width: 50%;}div.sk-parallel-item:last-child::after {align-self: flex-start;width: 50%;}div.sk-parallel-item:only-child::after {width: 0;}div.sk-dashed-wrapped {border: 1px dashed gray;margin: 0.2em;box-sizing: border-box;padding-bottom: 0.1em;background-color: white;position: relative;}div.sk-label label {font-family: monospace;font-weight: bold;background-color: white;display: inline-block;line-height: 1.2em;}div.sk-label-container {position: relative;z-index: 2;text-align: center;}div.sk-container {display: inline-block;position: relative;}</style><div class=\"sk-top-container\"><div class=\"sk-container\"><div class=\"sk-item sk-dashed-wrapped\"><div class=\"sk-label-container\"><div class=\"sk-label sk-toggleable\"><input class=\"sk-toggleable__control sk-hidden--visually\" id=\"e4561746-bfff-4a3b-aa11-abdf56563c4e\" type=\"checkbox\" ><label class=\"sk-toggleable__label\" for=\"e4561746-bfff-4a3b-aa11-abdf56563c4e\">Pipeline</label><div class=\"sk-toggleable__content\"><pre>Pipeline(steps=[('columntransformer',\n",
       "                 ColumnTransformer(remainder='passthrough',\n",
       "                                   transformers=[('simpleimputer-1',\n",
       "                                                  SimpleImputer(),\n",
       "                                                  [4, 5, 9, 12, 13, 14]),\n",
       "                                                 ('simpleimputer-2',\n",
       "                                                  SimpleImputer(strategy='most_frequent'),\n",
       "                                                  [1]),\n",
       "                                                 ('onehotencoder',\n",
       "                                                  OneHotEncoder(drop='first',\n",
       "                                                                sparse=False),\n",
       "                                                  [2, 3])])),\n",
       "                ('standardscaler', StandardScaler()),\n",
       "                ('logisticregression', LogisticRegression())])</pre></div></div></div><div class=\"sk-serial\"><div class=\"sk-item sk-dashed-wrapped\"><div class=\"sk-label-container\"><div class=\"sk-label sk-toggleable\"><input class=\"sk-toggleable__control sk-hidden--visually\" id=\"670b7b2b-11b5-4607-8867-7618deefe352\" type=\"checkbox\" ><label class=\"sk-toggleable__label\" for=\"670b7b2b-11b5-4607-8867-7618deefe352\">columntransformer: ColumnTransformer</label><div class=\"sk-toggleable__content\"><pre>ColumnTransformer(remainder='passthrough',\n",
       "                  transformers=[('simpleimputer-1', SimpleImputer(),\n",
       "                                 [4, 5, 9, 12, 13, 14]),\n",
       "                                ('simpleimputer-2',\n",
       "                                 SimpleImputer(strategy='most_frequent'), [1]),\n",
       "                                ('onehotencoder',\n",
       "                                 OneHotEncoder(drop='first', sparse=False),\n",
       "                                 [2, 3])])</pre></div></div></div><div class=\"sk-parallel\"><div class=\"sk-parallel-item\"><div class=\"sk-item\"><div class=\"sk-label-container\"><div class=\"sk-label sk-toggleable\"><input class=\"sk-toggleable__control sk-hidden--visually\" id=\"841cbcf7-582e-46c1-a23a-a99b9225a2aa\" type=\"checkbox\" ><label class=\"sk-toggleable__label\" for=\"841cbcf7-582e-46c1-a23a-a99b9225a2aa\">simpleimputer-1</label><div class=\"sk-toggleable__content\"><pre>[4, 5, 9, 12, 13, 14]</pre></div></div></div><div class=\"sk-serial\"><div class=\"sk-item\"><div class=\"sk-estimator sk-toggleable\"><input class=\"sk-toggleable__control sk-hidden--visually\" id=\"87948e64-b190-4639-a0b6-19bbeecf5594\" type=\"checkbox\" ><label class=\"sk-toggleable__label\" for=\"87948e64-b190-4639-a0b6-19bbeecf5594\">SimpleImputer</label><div class=\"sk-toggleable__content\"><pre>SimpleImputer()</pre></div></div></div></div></div></div><div class=\"sk-parallel-item\"><div class=\"sk-item\"><div class=\"sk-label-container\"><div class=\"sk-label sk-toggleable\"><input class=\"sk-toggleable__control sk-hidden--visually\" id=\"8ae01cf1-1fec-4257-8036-8bcaa0804954\" type=\"checkbox\" ><label class=\"sk-toggleable__label\" for=\"8ae01cf1-1fec-4257-8036-8bcaa0804954\">simpleimputer-2</label><div class=\"sk-toggleable__content\"><pre>[1]</pre></div></div></div><div class=\"sk-serial\"><div class=\"sk-item\"><div class=\"sk-estimator sk-toggleable\"><input class=\"sk-toggleable__control sk-hidden--visually\" id=\"506d1a03-6cdf-409e-b26f-0be9e76cf391\" type=\"checkbox\" ><label class=\"sk-toggleable__label\" for=\"506d1a03-6cdf-409e-b26f-0be9e76cf391\">SimpleImputer</label><div class=\"sk-toggleable__content\"><pre>SimpleImputer(strategy='most_frequent')</pre></div></div></div></div></div></div><div class=\"sk-parallel-item\"><div class=\"sk-item\"><div class=\"sk-label-container\"><div class=\"sk-label sk-toggleable\"><input class=\"sk-toggleable__control sk-hidden--visually\" id=\"303ab647-1687-4ea8-96a0-48eef034c659\" type=\"checkbox\" ><label class=\"sk-toggleable__label\" for=\"303ab647-1687-4ea8-96a0-48eef034c659\">onehotencoder</label><div class=\"sk-toggleable__content\"><pre>[2, 3]</pre></div></div></div><div class=\"sk-serial\"><div class=\"sk-item\"><div class=\"sk-estimator sk-toggleable\"><input class=\"sk-toggleable__control sk-hidden--visually\" id=\"422349fc-bc97-4565-a99b-3e0af781e529\" type=\"checkbox\" ><label class=\"sk-toggleable__label\" for=\"422349fc-bc97-4565-a99b-3e0af781e529\">OneHotEncoder</label><div class=\"sk-toggleable__content\"><pre>OneHotEncoder(drop='first', sparse=False)</pre></div></div></div></div></div></div><div class=\"sk-parallel-item\"><div class=\"sk-item\"><div class=\"sk-label-container\"><div class=\"sk-label sk-toggleable\"><input class=\"sk-toggleable__control sk-hidden--visually\" id=\"d22e6666-fe39-4f6d-9570-8ed1f4a7da52\" type=\"checkbox\" ><label class=\"sk-toggleable__label\" for=\"d22e6666-fe39-4f6d-9570-8ed1f4a7da52\">remainder</label><div class=\"sk-toggleable__content\"><pre>['age', 'prevalentStroke', 'prevalentHyp', 'diabetes', 'sysBP', 'diaBP']</pre></div></div></div><div class=\"sk-serial\"><div class=\"sk-item\"><div class=\"sk-estimator sk-toggleable\"><input class=\"sk-toggleable__control sk-hidden--visually\" id=\"daa265b1-c94e-43c6-b6a8-6fc6561fec07\" type=\"checkbox\" ><label class=\"sk-toggleable__label\" for=\"daa265b1-c94e-43c6-b6a8-6fc6561fec07\">passthrough</label><div class=\"sk-toggleable__content\"><pre>passthrough</pre></div></div></div></div></div></div></div></div><div class=\"sk-item\"><div class=\"sk-estimator sk-toggleable\"><input class=\"sk-toggleable__control sk-hidden--visually\" id=\"d662de61-ab4a-48ca-8dd1-e49c73c297cc\" type=\"checkbox\" ><label class=\"sk-toggleable__label\" for=\"d662de61-ab4a-48ca-8dd1-e49c73c297cc\">StandardScaler</label><div class=\"sk-toggleable__content\"><pre>StandardScaler()</pre></div></div></div><div class=\"sk-item\"><div class=\"sk-estimator sk-toggleable\"><input class=\"sk-toggleable__control sk-hidden--visually\" id=\"d8da29f7-afea-49ed-9aef-c99d048e94d0\" type=\"checkbox\" ><label class=\"sk-toggleable__label\" for=\"d8da29f7-afea-49ed-9aef-c99d048e94d0\">LogisticRegression</label><div class=\"sk-toggleable__content\"><pre>LogisticRegression()</pre></div></div></div></div></div></div></div>"
      ],
      "text/plain": [
       "Pipeline(steps=[('columntransformer',\n",
       "                 ColumnTransformer(remainder='passthrough',\n",
       "                                   transformers=[('simpleimputer-1',\n",
       "                                                  SimpleImputer(),\n",
       "                                                  [4, 5, 9, 12, 13, 14]),\n",
       "                                                 ('simpleimputer-2',\n",
       "                                                  SimpleImputer(strategy='most_frequent'),\n",
       "                                                  [1]),\n",
       "                                                 ('onehotencoder',\n",
       "                                                  OneHotEncoder(drop='first',\n",
       "                                                                sparse=False),\n",
       "                                                  [2, 3])])),\n",
       "                ('standardscaler', StandardScaler()),\n",
       "                ('logisticregression', LogisticRegression())])"
      ]
     },
     "execution_count": 76,
     "metadata": {},
     "output_type": "execute_result"
    }
   ],
   "source": [
    "pipe.fit(X_train,y_train)"
   ]
  },
  {
   "cell_type": "code",
   "execution_count": 77,
   "id": "a1a67b0c",
   "metadata": {},
   "outputs": [],
   "source": [
    "lr_preds = pipe.predict(X_test)"
   ]
  },
  {
   "cell_type": "code",
   "execution_count": 78,
   "id": "e43425e5",
   "metadata": {},
   "outputs": [
    {
     "data": {
      "text/plain": [
       "0.6780487804878049"
      ]
     },
     "execution_count": 78,
     "metadata": {},
     "output_type": "execute_result"
    }
   ],
   "source": [
    "accuracy_score(lr_preds,y_test)"
   ]
  },
  {
   "cell_type": "code",
   "execution_count": null,
   "id": "b5a32456",
   "metadata": {},
   "outputs": [],
   "source": []
  },
  {
   "cell_type": "code",
   "execution_count": null,
   "id": "f5934d0b",
   "metadata": {},
   "outputs": [],
   "source": []
  },
  {
   "cell_type": "markdown",
   "id": "02ea52d0",
   "metadata": {},
   "source": [
    "## RANDOMFOREST"
   ]
  },
  {
   "cell_type": "code",
   "execution_count": 56,
   "id": "ef521bd1",
   "metadata": {},
   "outputs": [],
   "source": [
    "from sklearn.ensemble import RandomForestClassifier"
   ]
  },
  {
   "cell_type": "code",
   "execution_count": 57,
   "id": "63c45def",
   "metadata": {},
   "outputs": [],
   "source": [
    "rf = RandomForestClassifier()"
   ]
  },
  {
   "cell_type": "code",
   "execution_count": 60,
   "id": "b583d968",
   "metadata": {},
   "outputs": [],
   "source": [
    "pipe = make_pipeline(clf,rf)"
   ]
  },
  {
   "cell_type": "code",
   "execution_count": 61,
   "id": "ad9b2abd",
   "metadata": {},
   "outputs": [
    {
     "data": {
      "text/html": [
       "<style>div.sk-top-container {color: black;background-color: white;}div.sk-toggleable {background-color: white;}label.sk-toggleable__label {cursor: pointer;display: block;width: 100%;margin-bottom: 0;padding: 0.2em 0.3em;box-sizing: border-box;text-align: center;}div.sk-toggleable__content {max-height: 0;max-width: 0;overflow: hidden;text-align: left;background-color: #f0f8ff;}div.sk-toggleable__content pre {margin: 0.2em;color: black;border-radius: 0.25em;background-color: #f0f8ff;}input.sk-toggleable__control:checked~div.sk-toggleable__content {max-height: 200px;max-width: 100%;overflow: auto;}div.sk-estimator input.sk-toggleable__control:checked~label.sk-toggleable__label {background-color: #d4ebff;}div.sk-label input.sk-toggleable__control:checked~label.sk-toggleable__label {background-color: #d4ebff;}input.sk-hidden--visually {border: 0;clip: rect(1px 1px 1px 1px);clip: rect(1px, 1px, 1px, 1px);height: 1px;margin: -1px;overflow: hidden;padding: 0;position: absolute;width: 1px;}div.sk-estimator {font-family: monospace;background-color: #f0f8ff;margin: 0.25em 0.25em;border: 1px dotted black;border-radius: 0.25em;box-sizing: border-box;}div.sk-estimator:hover {background-color: #d4ebff;}div.sk-parallel-item::after {content: \"\";width: 100%;border-bottom: 1px solid gray;flex-grow: 1;}div.sk-label:hover label.sk-toggleable__label {background-color: #d4ebff;}div.sk-serial::before {content: \"\";position: absolute;border-left: 1px solid gray;box-sizing: border-box;top: 2em;bottom: 0;left: 50%;}div.sk-serial {display: flex;flex-direction: column;align-items: center;background-color: white;}div.sk-item {z-index: 1;}div.sk-parallel {display: flex;align-items: stretch;justify-content: center;background-color: white;}div.sk-parallel-item {display: flex;flex-direction: column;position: relative;background-color: white;}div.sk-parallel-item:first-child::after {align-self: flex-end;width: 50%;}div.sk-parallel-item:last-child::after {align-self: flex-start;width: 50%;}div.sk-parallel-item:only-child::after {width: 0;}div.sk-dashed-wrapped {border: 1px dashed gray;margin: 0.2em;box-sizing: border-box;padding-bottom: 0.1em;background-color: white;position: relative;}div.sk-label label {font-family: monospace;font-weight: bold;background-color: white;display: inline-block;line-height: 1.2em;}div.sk-label-container {position: relative;z-index: 2;text-align: center;}div.sk-container {display: inline-block;position: relative;}</style><div class=\"sk-top-container\"><div class=\"sk-container\"><div class=\"sk-item sk-dashed-wrapped\"><div class=\"sk-label-container\"><div class=\"sk-label sk-toggleable\"><input class=\"sk-toggleable__control sk-hidden--visually\" id=\"f4cf0f8b-b0aa-4827-ae90-39c6a13d0c38\" type=\"checkbox\" ><label class=\"sk-toggleable__label\" for=\"f4cf0f8b-b0aa-4827-ae90-39c6a13d0c38\">Pipeline</label><div class=\"sk-toggleable__content\"><pre>Pipeline(steps=[('columntransformer',\n",
       "                 ColumnTransformer(remainder='passthrough',\n",
       "                                   transformers=[('simpleimputer-1',\n",
       "                                                  SimpleImputer(),\n",
       "                                                  [4, 5, 9, 12, 13, 14]),\n",
       "                                                 ('simpleimputer-2',\n",
       "                                                  SimpleImputer(strategy='most_frequent'),\n",
       "                                                  [1]),\n",
       "                                                 ('onehotencoder',\n",
       "                                                  OneHotEncoder(drop='first',\n",
       "                                                                sparse=False),\n",
       "                                                  [2, 3])])),\n",
       "                ('randomforestclassifier', RandomForestClassifier())])</pre></div></div></div><div class=\"sk-serial\"><div class=\"sk-item sk-dashed-wrapped\"><div class=\"sk-label-container\"><div class=\"sk-label sk-toggleable\"><input class=\"sk-toggleable__control sk-hidden--visually\" id=\"5e753e15-d199-4062-9f30-2707bc8e53d5\" type=\"checkbox\" ><label class=\"sk-toggleable__label\" for=\"5e753e15-d199-4062-9f30-2707bc8e53d5\">columntransformer: ColumnTransformer</label><div class=\"sk-toggleable__content\"><pre>ColumnTransformer(remainder='passthrough',\n",
       "                  transformers=[('simpleimputer-1', SimpleImputer(),\n",
       "                                 [4, 5, 9, 12, 13, 14]),\n",
       "                                ('simpleimputer-2',\n",
       "                                 SimpleImputer(strategy='most_frequent'), [1]),\n",
       "                                ('onehotencoder',\n",
       "                                 OneHotEncoder(drop='first', sparse=False),\n",
       "                                 [2, 3])])</pre></div></div></div><div class=\"sk-parallel\"><div class=\"sk-parallel-item\"><div class=\"sk-item\"><div class=\"sk-label-container\"><div class=\"sk-label sk-toggleable\"><input class=\"sk-toggleable__control sk-hidden--visually\" id=\"d211e8b0-247f-4089-890c-f3badf64e9ef\" type=\"checkbox\" ><label class=\"sk-toggleable__label\" for=\"d211e8b0-247f-4089-890c-f3badf64e9ef\">simpleimputer-1</label><div class=\"sk-toggleable__content\"><pre>[4, 5, 9, 12, 13, 14]</pre></div></div></div><div class=\"sk-serial\"><div class=\"sk-item\"><div class=\"sk-estimator sk-toggleable\"><input class=\"sk-toggleable__control sk-hidden--visually\" id=\"d0cee96c-92fc-4ba8-a7b7-81229a7c1b44\" type=\"checkbox\" ><label class=\"sk-toggleable__label\" for=\"d0cee96c-92fc-4ba8-a7b7-81229a7c1b44\">SimpleImputer</label><div class=\"sk-toggleable__content\"><pre>SimpleImputer()</pre></div></div></div></div></div></div><div class=\"sk-parallel-item\"><div class=\"sk-item\"><div class=\"sk-label-container\"><div class=\"sk-label sk-toggleable\"><input class=\"sk-toggleable__control sk-hidden--visually\" id=\"e9753c80-149c-4bd6-829a-49ebedc4776f\" type=\"checkbox\" ><label class=\"sk-toggleable__label\" for=\"e9753c80-149c-4bd6-829a-49ebedc4776f\">simpleimputer-2</label><div class=\"sk-toggleable__content\"><pre>[1]</pre></div></div></div><div class=\"sk-serial\"><div class=\"sk-item\"><div class=\"sk-estimator sk-toggleable\"><input class=\"sk-toggleable__control sk-hidden--visually\" id=\"5a3cd989-a266-4b01-bf4e-6be02bdefb99\" type=\"checkbox\" ><label class=\"sk-toggleable__label\" for=\"5a3cd989-a266-4b01-bf4e-6be02bdefb99\">SimpleImputer</label><div class=\"sk-toggleable__content\"><pre>SimpleImputer(strategy='most_frequent')</pre></div></div></div></div></div></div><div class=\"sk-parallel-item\"><div class=\"sk-item\"><div class=\"sk-label-container\"><div class=\"sk-label sk-toggleable\"><input class=\"sk-toggleable__control sk-hidden--visually\" id=\"4a5d195b-c807-4e2e-beea-68059eb827d9\" type=\"checkbox\" ><label class=\"sk-toggleable__label\" for=\"4a5d195b-c807-4e2e-beea-68059eb827d9\">onehotencoder</label><div class=\"sk-toggleable__content\"><pre>[2, 3]</pre></div></div></div><div class=\"sk-serial\"><div class=\"sk-item\"><div class=\"sk-estimator sk-toggleable\"><input class=\"sk-toggleable__control sk-hidden--visually\" id=\"bbe62206-5ced-4366-9a03-6a3cf5bd9ecb\" type=\"checkbox\" ><label class=\"sk-toggleable__label\" for=\"bbe62206-5ced-4366-9a03-6a3cf5bd9ecb\">OneHotEncoder</label><div class=\"sk-toggleable__content\"><pre>OneHotEncoder(drop='first', sparse=False)</pre></div></div></div></div></div></div><div class=\"sk-parallel-item\"><div class=\"sk-item\"><div class=\"sk-label-container\"><div class=\"sk-label sk-toggleable\"><input class=\"sk-toggleable__control sk-hidden--visually\" id=\"70e532ec-2b03-4b59-90f4-20bd9866a895\" type=\"checkbox\" ><label class=\"sk-toggleable__label\" for=\"70e532ec-2b03-4b59-90f4-20bd9866a895\">remainder</label><div class=\"sk-toggleable__content\"><pre>['age', 'prevalentStroke', 'prevalentHyp', 'diabetes', 'sysBP', 'diaBP']</pre></div></div></div><div class=\"sk-serial\"><div class=\"sk-item\"><div class=\"sk-estimator sk-toggleable\"><input class=\"sk-toggleable__control sk-hidden--visually\" id=\"b828e3d7-5f6c-447f-af35-abd09ae60e22\" type=\"checkbox\" ><label class=\"sk-toggleable__label\" for=\"b828e3d7-5f6c-447f-af35-abd09ae60e22\">passthrough</label><div class=\"sk-toggleable__content\"><pre>passthrough</pre></div></div></div></div></div></div></div></div><div class=\"sk-item\"><div class=\"sk-estimator sk-toggleable\"><input class=\"sk-toggleable__control sk-hidden--visually\" id=\"829ee77a-c7d6-4346-85d5-cbaa40de79a5\" type=\"checkbox\" ><label class=\"sk-toggleable__label\" for=\"829ee77a-c7d6-4346-85d5-cbaa40de79a5\">RandomForestClassifier</label><div class=\"sk-toggleable__content\"><pre>RandomForestClassifier()</pre></div></div></div></div></div></div></div>"
      ],
      "text/plain": [
       "Pipeline(steps=[('columntransformer',\n",
       "                 ColumnTransformer(remainder='passthrough',\n",
       "                                   transformers=[('simpleimputer-1',\n",
       "                                                  SimpleImputer(),\n",
       "                                                  [4, 5, 9, 12, 13, 14]),\n",
       "                                                 ('simpleimputer-2',\n",
       "                                                  SimpleImputer(strategy='most_frequent'),\n",
       "                                                  [1]),\n",
       "                                                 ('onehotencoder',\n",
       "                                                  OneHotEncoder(drop='first',\n",
       "                                                                sparse=False),\n",
       "                                                  [2, 3])])),\n",
       "                ('randomforestclassifier', RandomForestClassifier())])"
      ]
     },
     "execution_count": 61,
     "metadata": {},
     "output_type": "execute_result"
    }
   ],
   "source": [
    "pipe.fit(X_train,y_train)"
   ]
  },
  {
   "cell_type": "code",
   "execution_count": 62,
   "id": "95db99dc",
   "metadata": {},
   "outputs": [],
   "source": [
    "y_preds = pipe.predict(X_test)"
   ]
  },
  {
   "cell_type": "code",
   "execution_count": 63,
   "id": "4346210f",
   "metadata": {},
   "outputs": [],
   "source": [
    "from sklearn.metrics import accuracy_score"
   ]
  },
  {
   "cell_type": "code",
   "execution_count": 64,
   "id": "816b7384",
   "metadata": {},
   "outputs": [
    {
     "data": {
      "text/plain": [
       "0.624390243902439"
      ]
     },
     "execution_count": 64,
     "metadata": {},
     "output_type": "execute_result"
    }
   ],
   "source": [
    "accuracy_score(y_preds,y_test)"
   ]
  },
  {
   "cell_type": "code",
   "execution_count": null,
   "id": "24638aab",
   "metadata": {},
   "outputs": [],
   "source": []
  },
  {
   "cell_type": "code",
   "execution_count": null,
   "id": "fba2e589",
   "metadata": {},
   "outputs": [],
   "source": []
  },
  {
   "cell_type": "markdown",
   "id": "443f4e19",
   "metadata": {},
   "source": [
    "## making a pipeline"
   ]
  },
  {
   "cell_type": "code",
   "execution_count": 58,
   "id": "0423b308",
   "metadata": {},
   "outputs": [],
   "source": [
    "from sklearn.pipeline import make_pipeline"
   ]
  },
  {
   "cell_type": "code",
   "execution_count": 59,
   "id": "c5b4735b",
   "metadata": {},
   "outputs": [],
   "source": [
    "from sklearn import set_config\n",
    "set_config(display='diagram')"
   ]
  },
  {
   "cell_type": "code",
   "execution_count": 69,
   "id": "2a46ba73",
   "metadata": {},
   "outputs": [],
   "source": [
    "pipe = make_pipeline(clf,scale,classifier)"
   ]
  },
  {
   "cell_type": "code",
   "execution_count": 70,
   "id": "05536499",
   "metadata": {},
   "outputs": [
    {
     "data": {
      "text/html": [
       "<style>div.sk-top-container {color: black;background-color: white;}div.sk-toggleable {background-color: white;}label.sk-toggleable__label {cursor: pointer;display: block;width: 100%;margin-bottom: 0;padding: 0.2em 0.3em;box-sizing: border-box;text-align: center;}div.sk-toggleable__content {max-height: 0;max-width: 0;overflow: hidden;text-align: left;background-color: #f0f8ff;}div.sk-toggleable__content pre {margin: 0.2em;color: black;border-radius: 0.25em;background-color: #f0f8ff;}input.sk-toggleable__control:checked~div.sk-toggleable__content {max-height: 200px;max-width: 100%;overflow: auto;}div.sk-estimator input.sk-toggleable__control:checked~label.sk-toggleable__label {background-color: #d4ebff;}div.sk-label input.sk-toggleable__control:checked~label.sk-toggleable__label {background-color: #d4ebff;}input.sk-hidden--visually {border: 0;clip: rect(1px 1px 1px 1px);clip: rect(1px, 1px, 1px, 1px);height: 1px;margin: -1px;overflow: hidden;padding: 0;position: absolute;width: 1px;}div.sk-estimator {font-family: monospace;background-color: #f0f8ff;margin: 0.25em 0.25em;border: 1px dotted black;border-radius: 0.25em;box-sizing: border-box;}div.sk-estimator:hover {background-color: #d4ebff;}div.sk-parallel-item::after {content: \"\";width: 100%;border-bottom: 1px solid gray;flex-grow: 1;}div.sk-label:hover label.sk-toggleable__label {background-color: #d4ebff;}div.sk-serial::before {content: \"\";position: absolute;border-left: 1px solid gray;box-sizing: border-box;top: 2em;bottom: 0;left: 50%;}div.sk-serial {display: flex;flex-direction: column;align-items: center;background-color: white;}div.sk-item {z-index: 1;}div.sk-parallel {display: flex;align-items: stretch;justify-content: center;background-color: white;}div.sk-parallel-item {display: flex;flex-direction: column;position: relative;background-color: white;}div.sk-parallel-item:first-child::after {align-self: flex-end;width: 50%;}div.sk-parallel-item:last-child::after {align-self: flex-start;width: 50%;}div.sk-parallel-item:only-child::after {width: 0;}div.sk-dashed-wrapped {border: 1px dashed gray;margin: 0.2em;box-sizing: border-box;padding-bottom: 0.1em;background-color: white;position: relative;}div.sk-label label {font-family: monospace;font-weight: bold;background-color: white;display: inline-block;line-height: 1.2em;}div.sk-label-container {position: relative;z-index: 2;text-align: center;}div.sk-container {display: inline-block;position: relative;}</style><div class=\"sk-top-container\"><div class=\"sk-container\"><div class=\"sk-item sk-dashed-wrapped\"><div class=\"sk-label-container\"><div class=\"sk-label sk-toggleable\"><input class=\"sk-toggleable__control sk-hidden--visually\" id=\"659a2a85-0fd4-4fe0-92cb-8a6ebc2de0f0\" type=\"checkbox\" ><label class=\"sk-toggleable__label\" for=\"659a2a85-0fd4-4fe0-92cb-8a6ebc2de0f0\">Pipeline</label><div class=\"sk-toggleable__content\"><pre>Pipeline(steps=[('columntransformer',\n",
       "                 ColumnTransformer(remainder='passthrough',\n",
       "                                   transformers=[('simpleimputer-1',\n",
       "                                                  SimpleImputer(),\n",
       "                                                  [4, 5, 9, 12, 13, 14]),\n",
       "                                                 ('simpleimputer-2',\n",
       "                                                  SimpleImputer(strategy='most_frequent'),\n",
       "                                                  [1]),\n",
       "                                                 ('onehotencoder',\n",
       "                                                  OneHotEncoder(drop='first',\n",
       "                                                                sparse=False),\n",
       "                                                  [2, 3])])),\n",
       "                ('standardscaler', StandardScaler()),\n",
       "                ('svc', SVC(kernel='linear'))])</pre></div></div></div><div class=\"sk-serial\"><div class=\"sk-item sk-dashed-wrapped\"><div class=\"sk-label-container\"><div class=\"sk-label sk-toggleable\"><input class=\"sk-toggleable__control sk-hidden--visually\" id=\"92b15a45-a8c2-4d4f-8f83-dd03a1fdb71a\" type=\"checkbox\" ><label class=\"sk-toggleable__label\" for=\"92b15a45-a8c2-4d4f-8f83-dd03a1fdb71a\">columntransformer: ColumnTransformer</label><div class=\"sk-toggleable__content\"><pre>ColumnTransformer(remainder='passthrough',\n",
       "                  transformers=[('simpleimputer-1', SimpleImputer(),\n",
       "                                 [4, 5, 9, 12, 13, 14]),\n",
       "                                ('simpleimputer-2',\n",
       "                                 SimpleImputer(strategy='most_frequent'), [1]),\n",
       "                                ('onehotencoder',\n",
       "                                 OneHotEncoder(drop='first', sparse=False),\n",
       "                                 [2, 3])])</pre></div></div></div><div class=\"sk-parallel\"><div class=\"sk-parallel-item\"><div class=\"sk-item\"><div class=\"sk-label-container\"><div class=\"sk-label sk-toggleable\"><input class=\"sk-toggleable__control sk-hidden--visually\" id=\"37776645-dbfd-43bd-9a25-ddbfc41d194e\" type=\"checkbox\" ><label class=\"sk-toggleable__label\" for=\"37776645-dbfd-43bd-9a25-ddbfc41d194e\">simpleimputer-1</label><div class=\"sk-toggleable__content\"><pre>[4, 5, 9, 12, 13, 14]</pre></div></div></div><div class=\"sk-serial\"><div class=\"sk-item\"><div class=\"sk-estimator sk-toggleable\"><input class=\"sk-toggleable__control sk-hidden--visually\" id=\"75ea5520-54e3-457e-b003-5dddc1d941ab\" type=\"checkbox\" ><label class=\"sk-toggleable__label\" for=\"75ea5520-54e3-457e-b003-5dddc1d941ab\">SimpleImputer</label><div class=\"sk-toggleable__content\"><pre>SimpleImputer()</pre></div></div></div></div></div></div><div class=\"sk-parallel-item\"><div class=\"sk-item\"><div class=\"sk-label-container\"><div class=\"sk-label sk-toggleable\"><input class=\"sk-toggleable__control sk-hidden--visually\" id=\"9e4ab3e4-7973-439e-ba8c-35f62d13e64c\" type=\"checkbox\" ><label class=\"sk-toggleable__label\" for=\"9e4ab3e4-7973-439e-ba8c-35f62d13e64c\">simpleimputer-2</label><div class=\"sk-toggleable__content\"><pre>[1]</pre></div></div></div><div class=\"sk-serial\"><div class=\"sk-item\"><div class=\"sk-estimator sk-toggleable\"><input class=\"sk-toggleable__control sk-hidden--visually\" id=\"f1f120b6-317d-48ec-b452-f33df590683d\" type=\"checkbox\" ><label class=\"sk-toggleable__label\" for=\"f1f120b6-317d-48ec-b452-f33df590683d\">SimpleImputer</label><div class=\"sk-toggleable__content\"><pre>SimpleImputer(strategy='most_frequent')</pre></div></div></div></div></div></div><div class=\"sk-parallel-item\"><div class=\"sk-item\"><div class=\"sk-label-container\"><div class=\"sk-label sk-toggleable\"><input class=\"sk-toggleable__control sk-hidden--visually\" id=\"640a755b-db51-4cee-be31-8500f629a9b5\" type=\"checkbox\" ><label class=\"sk-toggleable__label\" for=\"640a755b-db51-4cee-be31-8500f629a9b5\">onehotencoder</label><div class=\"sk-toggleable__content\"><pre>[2, 3]</pre></div></div></div><div class=\"sk-serial\"><div class=\"sk-item\"><div class=\"sk-estimator sk-toggleable\"><input class=\"sk-toggleable__control sk-hidden--visually\" id=\"b8666e81-c09c-4e2e-a82f-8ff8362212a9\" type=\"checkbox\" ><label class=\"sk-toggleable__label\" for=\"b8666e81-c09c-4e2e-a82f-8ff8362212a9\">OneHotEncoder</label><div class=\"sk-toggleable__content\"><pre>OneHotEncoder(drop='first', sparse=False)</pre></div></div></div></div></div></div><div class=\"sk-parallel-item\"><div class=\"sk-item\"><div class=\"sk-label-container\"><div class=\"sk-label sk-toggleable\"><input class=\"sk-toggleable__control sk-hidden--visually\" id=\"4fd6698c-9ebd-453b-86d0-27e33ae1e16f\" type=\"checkbox\" ><label class=\"sk-toggleable__label\" for=\"4fd6698c-9ebd-453b-86d0-27e33ae1e16f\">remainder</label><div class=\"sk-toggleable__content\"><pre>['age', 'prevalentStroke', 'prevalentHyp', 'diabetes', 'sysBP', 'diaBP']</pre></div></div></div><div class=\"sk-serial\"><div class=\"sk-item\"><div class=\"sk-estimator sk-toggleable\"><input class=\"sk-toggleable__control sk-hidden--visually\" id=\"8fc6ca05-dd4f-41af-be65-2fe30f46fa7a\" type=\"checkbox\" ><label class=\"sk-toggleable__label\" for=\"8fc6ca05-dd4f-41af-be65-2fe30f46fa7a\">passthrough</label><div class=\"sk-toggleable__content\"><pre>passthrough</pre></div></div></div></div></div></div></div></div><div class=\"sk-item\"><div class=\"sk-estimator sk-toggleable\"><input class=\"sk-toggleable__control sk-hidden--visually\" id=\"7b96e553-d07d-4739-83a1-9de2359f7a7a\" type=\"checkbox\" ><label class=\"sk-toggleable__label\" for=\"7b96e553-d07d-4739-83a1-9de2359f7a7a\">StandardScaler</label><div class=\"sk-toggleable__content\"><pre>StandardScaler()</pre></div></div></div><div class=\"sk-item\"><div class=\"sk-estimator sk-toggleable\"><input class=\"sk-toggleable__control sk-hidden--visually\" id=\"b6abb416-90d7-4bd8-b569-0d8698e8db96\" type=\"checkbox\" ><label class=\"sk-toggleable__label\" for=\"b6abb416-90d7-4bd8-b569-0d8698e8db96\">SVC</label><div class=\"sk-toggleable__content\"><pre>SVC(kernel='linear')</pre></div></div></div></div></div></div></div>"
      ],
      "text/plain": [
       "Pipeline(steps=[('columntransformer',\n",
       "                 ColumnTransformer(remainder='passthrough',\n",
       "                                   transformers=[('simpleimputer-1',\n",
       "                                                  SimpleImputer(),\n",
       "                                                  [4, 5, 9, 12, 13, 14]),\n",
       "                                                 ('simpleimputer-2',\n",
       "                                                  SimpleImputer(strategy='most_frequent'),\n",
       "                                                  [1]),\n",
       "                                                 ('onehotencoder',\n",
       "                                                  OneHotEncoder(drop='first',\n",
       "                                                                sparse=False),\n",
       "                                                  [2, 3])])),\n",
       "                ('standardscaler', StandardScaler()),\n",
       "                ('svc', SVC(kernel='linear'))])"
      ]
     },
     "execution_count": 70,
     "metadata": {},
     "output_type": "execute_result"
    }
   ],
   "source": [
    "pipe.fit(X_train,y_train)"
   ]
  },
  {
   "cell_type": "code",
   "execution_count": 71,
   "id": "fb9fa310",
   "metadata": {},
   "outputs": [],
   "source": [
    "y_pred_pipe = pipe.predict(X_test)"
   ]
  },
  {
   "cell_type": "code",
   "execution_count": 72,
   "id": "26111460",
   "metadata": {},
   "outputs": [
    {
     "data": {
      "text/plain": [
       "0.6585365853658537"
      ]
     },
     "execution_count": 72,
     "metadata": {},
     "output_type": "execute_result"
    }
   ],
   "source": [
    "accuracy_score(y_pred_pipe,y_test)"
   ]
  },
  {
   "cell_type": "markdown",
   "id": "11326ccc",
   "metadata": {},
   "source": [
    "## Cross Validation"
   ]
  },
  {
   "cell_type": "code",
   "execution_count": null,
   "id": "e374f669",
   "metadata": {},
   "outputs": [],
   "source": [
    "from sklearn.model_selection import cross_val_score\n",
    "cross_val_score(pipe,X_train,y_train,cv=5,scoring='accuracy').mean()"
   ]
  },
  {
   "cell_type": "code",
   "execution_count": 83,
   "id": "9b07b6e4",
   "metadata": {},
   "outputs": [],
   "source": [
    "import pickle\n",
    "\n"
   ]
  },
  {
   "cell_type": "code",
   "execution_count": null,
   "id": "0333785f",
   "metadata": {},
   "outputs": [],
   "source": [
    "pipe2 = make_pipeline(clf,scale,rf)"
   ]
  },
  {
   "cell_type": "code",
   "execution_count": null,
   "id": "d9634193",
   "metadata": {},
   "outputs": [],
   "source": [
    "pickle.dump(pipe2,open('rf_pipe.pkl','wb'))"
   ]
  },
  {
   "cell_type": "code",
   "execution_count": null,
   "id": "f26e513e",
   "metadata": {},
   "outputs": [],
   "source": [
    "pipe3 = make_pipeline(clf,scale,lr)"
   ]
  },
  {
   "cell_type": "code",
   "execution_count": 84,
   "id": "838e3511",
   "metadata": {},
   "outputs": [],
   "source": [
    "pickle.dump(pipe,open('lr_pipe.pkl','wb'))"
   ]
  },
  {
   "cell_type": "code",
   "execution_count": 88,
   "id": "4b721c52",
   "metadata": {},
   "outputs": [
    {
     "data": {
      "text/plain": [
       "<AxesSubplot:>"
      ]
     },
     "execution_count": 88,
     "metadata": {},
     "output_type": "execute_result"
    },
    {
     "data": {
      "image/png": "[encoded data removed]",
      "text/plain": [
       "<Figure size 576x360 with 2 Axes>"
      ]
     },
     "metadata": {
      "needs_background": "light"
     },
     "output_type": "display_data"
    }
   ],
   "source": [
    "from sklearn.metrics import confusion_matrix\n",
    "cm=confusion_matrix(lr_preds,y_test)\n",
    "conf_matrix=pd.DataFrame(data=cm,columns=['Predicted:0','Predicted:1'],index=['Actual:0','Actual:1'])\n",
    "plt.figure(figsize = (8,5))\n",
    "sns.heatmap(conf_matrix, annot=True,fmt='d',cmap=\"YlGnBu\")"
   ]
  },
  {
   "cell_type": "code",
   "execution_count": null,
   "id": "6cc4e8b8",
   "metadata": {},
   "outputs": [],
   "source": [
    "868+149"
   ]
  },
  {
   "cell_type": "code",
   "execution_count": null,
   "id": "c52f7c33",
   "metadata": {},
   "outputs": [],
   "source": []
  }
 ],
 "metadata": {
  "kernelspec": {
   "display_name": "Python 3",
   "language": "python",
   "name": "python3"
  },
  "language_info": {
   "codemirror_mode": {
    "name": "ipython",
    "version": 3
   },
   "file_extension": ".py",
   "mimetype": "text/x-python",
   "name": "python",
   "nbconvert_exporter": "python",
   "pygments_lexer": "ipython3",
   "version": "3.8.8"
  }
 },
 "nbformat": 4,
 "nbformat_minor": 5
}
