{
 "cells": [
  {
   "cell_type": "code",
   "execution_count": 1,
   "id": "a6eebf39",
   "metadata": {},
   "outputs": [],
   "source": [
    "import pickle\n",
    "import numpy as np"
   ]
  },
  {
   "cell_type": "code",
   "execution_count": 9,
   "id": "6130408e",
   "metadata": {},
   "outputs": [],
   "source": [
    "pipe = pickle.load(open('lr_pipe.pkl','rb'))"
   ]
  },
  {
   "cell_type": "code",
   "execution_count": 14,
   "id": "3025cb19",
   "metadata": {},
   "outputs": [],
   "source": [
    "test_input = np.array([60,1.0,'M','YES',20.0,0.0,0,1,0,174.0,164.0,113.0,18.64,65.0,93.0],dtype=object).reshape(1,15)"
   ]
  },
  {
   "cell_type": "code",
   "execution_count": 15,
   "id": "16cfe4ee",
   "metadata": {},
   "outputs": [
    {
     "data": {
      "text/plain": [
       "array([1], dtype=int64)"
      ]
     },
     "execution_count": 15,
     "metadata": {},
     "output_type": "execute_result"
    }
   ],
   "source": [
    "pipe.predict(test_input)"
   ]
  },
  {
   "cell_type": "code",
   "execution_count": null,
   "id": "c2421ec0",
   "metadata": {},
   "outputs": [],
   "source": []
  }
 ],
 "metadata": {
  "kernelspec": {
   "display_name": "Python 3",
   "language": "python",
   "name": "python3"
  },
  "language_info": {
   "codemirror_mode": {
    "name": "ipython",
    "version": 3
   },
   "file_extension": ".py",
   "mimetype": "text/x-python",
   "name": "python",
   "nbconvert_exporter": "python",
   "pygments_lexer": "ipython3",
   "version": "3.8.8"
  }
 },
 "nbformat": 4,
 "nbformat_minor": 5
}
